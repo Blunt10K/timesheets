{
 "cells": [
  {
   "cell_type": "code",
   "execution_count": 1,
   "metadata": {},
   "outputs": [],
   "source": [
    "import pandas as pd\n",
    "import plotly.express as px\n",
    "import numpy as np"
   ]
  },
  {
   "cell_type": "code",
   "execution_count": 2,
   "metadata": {},
   "outputs": [],
   "source": [
    "def preprocess_data(path = '../timesheet_dash_data/RESOURCE SUMMARY.xlsx'):\n",
    "    wb = pd.read_excel(path,'Sheet1',header=1)\n",
    "\n",
    "    correspondences = {}\n",
    "\n",
    "    nonworking = ['10th Day','9th Day','8th day','All Saints Day','Annual Leave','Ascension Day','Easter Monday','National Day',\n",
    "    'Other Leave','Sick Leave','Special Leave granted by the DG','Whit Monday']\n",
    "\n",
    "    non_audit = ['Administrative Matters & Support','Covid-19 Sanitary Situation','GC and EXB (incl. Annual report)',\n",
    "        'HR Management & Recruitment', 'IOS Management - Ad-hoc Requests','IOS Team Meetings', 'JIU Coordination',\n",
    "        'OAC support, preparation and meetings','Participation to UNESCO Working Groups or Task Forces',\n",
    "        'Policy or Administrative Manual Item Review','Support to Investigation Unit',\n",
    "        'Trainings or Workshops']\n",
    "\n",
    "    audit = ['Audit-Ad-hoc request / Advisory','Audit-Annual Planning', 'Audit-QAIP (incl. TeamMate+ Migration)']\n",
    "\n",
    "    reco = ['Audit-Recommendation Follow-up']\n",
    "\n",
    "    correspondences['Nonworking'] = nonworking\n",
    "    correspondences['Non audit time'] = non_audit\n",
    "    correspondences['Audit Time'] = audit\n",
    "    correspondences['Reco Follow-up Time'] = reco\n",
    "\n",
    "    # Insert correspondences for the different Time Categories\n",
    "    wb['Reporting categories'] = 'Audit Time'\n",
    "    for i in correspondences: \n",
    "        wb['Reporting categories'].mask(wb['Time Category'].isin(correspondences[i]),i,inplace=True)\n",
    "\n",
    "    # Make Phase 5 -- Recommendation followups be repored as Reco Follow up time\n",
    "    wb['Reporting categories'].mask(wb['Phase'].astype('string').str.startswith('5'),'Reco Follow-up Time',inplace=True)\n",
    "\n",
    "    # Remove IOS/... prefix from Assignment name\n",
    "    prefix_removed = wb['Assignment Name'].str.extract(r'(^IOS/[a-zA-Z0-9_\\./]+)-([a-zA-Z0-9_\\' -]+)')[1]\n",
    "    idxs = ~wb['Assignment Name'].str.startswith('IOS/').fillna(False)\n",
    "    prefix_removed[idxs] = wb[idxs]['Assignment Name']\n",
    "    wb['Assignment Name'] = prefix_removed\n",
    "\n",
    "\n",
    "    return wb\n"
   ]
  },
  {
   "cell_type": "code",
   "execution_count": 3,
   "metadata": {},
   "outputs": [],
   "source": [
    "wb = preprocess_data()"
   ]
  },
  {
   "cell_type": "code",
   "execution_count": 4,
   "metadata": {},
   "outputs": [],
   "source": [
    "names = wb['Resource'].dropna().unique()"
   ]
  }
 ],
 "metadata": {
  "kernelspec": {
   "display_name": "Python 3.9.2 64-bit",
   "language": "python",
   "name": "python3"
  },
  "language_info": {
   "codemirror_mode": {
    "name": "ipython",
    "version": 3
   },
   "file_extension": ".py",
   "mimetype": "text/x-python",
   "name": "python",
   "nbconvert_exporter": "python",
   "pygments_lexer": "ipython3",
   "version": "3.9.2"
  },
  "orig_nbformat": 4,
  "vscode": {
   "interpreter": {
    "hash": "767d51c1340bd893661ea55ea3124f6de3c7a262a8b4abca0554b478b1e2ff90"
   }
  }
 },
 "nbformat": 4,
 "nbformat_minor": 2
}
