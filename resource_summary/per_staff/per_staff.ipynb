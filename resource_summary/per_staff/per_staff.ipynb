{
 "cells": [
  {
   "cell_type": "code",
   "execution_count": 1,
   "metadata": {},
   "outputs": [],
   "source": [
    "path = 'REC NOT CLOSED VFinale2.xlsm'\n",
    "import pandas as pd\n",
    "from jupyter_dash import JupyterDash\n",
    "from dash import html\n",
    "from dash.dependencies import Input, Output\n",
    "import plotly.express as px\n",
    "from dash import dcc\n",
    "import numpy as np\n",
    "import datetime as dt"
   ]
  },
  {
   "cell_type": "code",
   "execution_count": 2,
   "metadata": {},
   "outputs": [],
   "source": [
    "def preprocess_data(path = '../RESOURCE SUMMARY_20220912.xlsx'):\n",
    "    wb = pd.read_excel(path,'Sheet1',header=1)\n",
    "\n",
    "    correspondences = {}\n",
    "\n",
    "    nonworking = ['10th Day','9th Day','8th day','All Saints Day','Annual Leave','Ascension Day','Easter Monday','National Day',\n",
    "    'Other Leave','Sick Leave','Special Leave granted by the DG','Whit Monday']\n",
    "\n",
    "    non_audit = ['Administrative Matters & Support','Covid-19 Sanitary Situation','GC and EXB (incl. Annual report)',\n",
    "        'HR Management & Recruitment', 'IOS Management - Ad-hoc Requests','IOS Team Meetings', 'JIU Coordination',\n",
    "        'OAC support, preparation and meetings','Participation to UNESCO Working Groups or Task Forces',\n",
    "        'Policy or Administrative Manual Item Review','Support to Investigation Unit',\n",
    "        'Trainings or Workshops']\n",
    "\n",
    "    audit = ['Audit-Ad-hoc request / Advisory','Audit-Annual Planning', 'Audit-QAIP (incl. TeamMate+ Migration)']\n",
    "\n",
    "    reco = ['Audit-Recommendation Follow-up']\n",
    "\n",
    "    correspondences['Nonworking'] = nonworking\n",
    "    correspondences['Non audit time'] = non_audit\n",
    "    correspondences['Audit Time'] = audit\n",
    "    correspondences['Reco Follow-up Time'] = reco\n",
    "\n",
    "    # Insert correspondences for the different Time Categories\n",
    "    wb['Reporting categories'] = 'Audit Time'\n",
    "    for i in correspondences: \n",
    "        wb['Reporting categories'].mask(wb['Time Category'].isin(correspondences[i]),i,inplace=True)\n",
    "\n",
    "    # Make Phase 5 -- Recommendation followups be repored as Reco Follow up time\n",
    "    wb['Reporting categories'].mask(wb['Phase'].astype('string').str.startswith('5'),'Reco Follow-up Time',inplace=True)\n",
    "\n",
    "    # Remove IOS/... prefix from Assignment name\n",
    "    prefix_removed = wb['Assignment Name'].str.extract(r'(^IOS/[a-zA-Z0-9_\\./]+)-([a-zA-Z0-9_\\' -]+)')[1]\n",
    "    idxs = ~wb['Assignment Name'].str.startswith('IOS/').fillna(False)\n",
    "    prefix_removed[idxs] = wb[idxs]['Assignment Name']\n",
    "    wb['Assignment Name'] = prefix_removed\n",
    "\n",
    "\n",
    "    return wb\n",
    "        "
   ]
  },
  {
   "cell_type": "code",
   "execution_count": 3,
   "metadata": {},
   "outputs": [],
   "source": [
    "def time_utilisation(wb):\n",
    "   # exclude nonworking records\n",
    "   df = wb.loc[wb['Reporting categories']!='Nonworking']\n",
    "   df = df.rename(columns={'Reporting categories':'time'})\n",
    "\n",
    "   # merge Time Category and Phase information in one -- activity\n",
    "   non_audit = df[df['Time Category'].isna()]['Assignment Name']\n",
    "   audit = df[~df['Time Category'].isna()]['Time Category']\n",
    "   df['activity'] = pd.concat((non_audit,audit))\n",
    "\n",
    "   # extract year from date, calculate working hours\n",
    "   df['Date'] = pd.to_datetime(df['Date'])\n",
    "   df = df.assign(year_month=df['Date'].dt.strftime('%B, %Y'))\n",
    "   df = df.assign(working_hours=df[['Project Hours', 'Admin Hours']].sum(axis=1))\n",
    "\n",
    "   df = df.groupby(['Resource','year_month','time','activity']).sum().drop(columns=['Project Hours', 'Admin Hours',\n",
    "      'Nonworking Hours', 'Holiday', 'Total (All Entries)',\n",
    "      'Utilization (All Entries)'])\n",
    "\n",
    "   df['monthly_hours'] = df.groupby(level = [0,1]).sum()\n",
    "   df['time_category_hours'] = df.groupby(level = [0,1,2]).sum()[['working_hours']]\n",
    "\n",
    "   df['time_category_percentage']  = (100*df['time_category_hours']/df['monthly_hours']).round(1)\n",
    "   df['activity_percentage'] = (100*df['working_hours']/df['time_category_hours']).round(1)\n",
    "\n",
    "   df = df.reset_index()\n",
    "\n",
    "   df.replace(np.nan,None,inplace=True)\n",
    "\n",
    "   df = df.astype({'time_category_percentage':'string','activity_percentage':'string'})\n",
    "   df['time_category_percentage']+='%'\n",
    "   df['activity_percentage']+='%'\n",
    "\n",
    "   df['time_stat'] = df['time_category_hours'].astype('string') + ' hours (' + df[\"time_category_percentage\"] + ')'\n",
    "   df['activity_hours']  =  df['working_hours'].astype('string') + ' hours (' + df[\"activity_percentage\"] + ')'\n",
    "\n",
    "   colour_map = dict(zip(df['time'].sort_values().unique(),px.colors.carto.Safe))\n",
    "   colour_map['(?)'] = 'lightgrey'\n",
    "\n",
    "   # hovertemplate='label = %{label}<br>%{color:.data}<br>Hours worked = %{value:.2f}'\n",
    "   hovertemplate = 'label = %{label}<br>Activity = %{customdata[0]}<br>Working hours = %{value}<extra></extra>'\n",
    "   fig = px.treemap(df,path=[px.Constant('Month'),'year_month','Resource','time','time_stat','activity','activity_hours'],\n",
    "   hover_data=['time','activity_hours'],width = 1300,height=800,\n",
    "   values='working_hours',color = 'time',color_discrete_map=colour_map,maxdepth=5)\n",
    "\n",
    "   fig.update_layout(title='Time Utilization per Month and Auditor',title_x=0.5)\n",
    "   fig.update_traces(hovertemplate=hovertemplate)\n",
    "\n",
    "   return df,fig"
   ]
  },
  {
   "cell_type": "code",
   "execution_count": 4,
   "metadata": {},
   "outputs": [],
   "source": [
    "wb = preprocess_data()"
   ]
  },
  {
   "cell_type": "code",
   "execution_count": 5,
   "metadata": {},
   "outputs": [
    {
     "data": {
      "text/plain": [
       "Audit of UNESCO's Environmental Management System                                                            355\n",
       "Advisory Engagement on Data Governance                                                                       310\n",
       "Performance Audit of Communication and Information Sector                                                    296\n",
       "Audit of UNESCO's Recruitment                                                                                271\n",
       "Audit of UNESCO's Cluster Office in San José (Remote)                                                        258\n",
       "Memo on Cross-cutting issues for Field Offices                                                               254\n",
       "Audit of UNESCO Regional Office in Yaoundé                                                                   245\n",
       "Audit of UNESCO's Implementation Partnership Agreements                                                      242\n",
       "Performance audit of the World Heritage Centre                                                               235\n",
       "Review of the Management Process for Diplomatic Status Requests Granted to Staff and Delegations             223\n",
       "Advisory on Organisation Culture                                                                             195\n",
       "Remote audit of UNESCO's Office in Tehran                                                                    191\n",
       "Audit of UNESCO's Office in Mexico City                                                                      177\n",
       "Audit of the UNESCO Regional Office in Harare                                                                174\n",
       "Audit of UNESCO's Liaison Office in Addis Ababa                                                              163\n",
       "Advisory of Sexual Exploitation and Abuse                                                                    163\n",
       "Audit of UNESCO's Office in Dhaka                                                                            124\n",
       "Audit of UNESCO's Office in Kathmandu                                                                        121\n",
       "Audit of the UNESCO Regional Office in Havana                                                                116\n",
       "Audit of UNESCO Internationa Institute for Capacity Building in Africa (IICBA)                               109\n",
       "SWIFT Community Standard Assessment                                                                           94\n",
       "Audit of UNESCO's Office in Juba                                                                              75\n",
       "Review of UNESCO Staff Unions                                                                                 71\n",
       "Advisory on Enterprise Risk Management                                                                        69\n",
       "2022 Audit of UNESCO's Cybersecurity                                                                          41\n",
       "Memo on Fraud Risk Assessment of the Field Network                                                            23\n",
       "Vendor Creation on Internet Banking Tool (see FO Cross-cutting issues Assignment; kept for time tracking)     17\n",
       "QAIP-Self-Assessment with Independent Validation 2021                                                         17\n",
       "Audit of Partnerships                                                                                         13\n",
       "Remote Audit of UNESCO's Office in Kinshasa                                                                    6\n",
       "Audit of the Management of the MBF                                                                             3\n",
       "Memo on Management of UNESCO Vendors' data updates                                                             3\n",
       "Name: Assignment Name, dtype: int64"
      ]
     },
     "execution_count": 5,
     "metadata": {},
     "output_type": "execute_result"
    }
   ],
   "source": [
    "wb['Assignment Name'].value_counts()#.str.extract(r'(IOS/AUD/\\d+/\\d+-)([a-zA-Z0-9_\\' -]+)|')[1]"
   ]
  },
  {
   "cell_type": "code",
   "execution_count": 6,
   "metadata": {},
   "outputs": [],
   "source": [
    "df, fig = time_utilisation(wb)"
   ]
  },
  {
   "cell_type": "code",
   "execution_count": 7,
   "metadata": {},
   "outputs": [],
   "source": [
    "names = wb['Resource'].dropna().unique()"
   ]
  },
  {
   "cell_type": "code",
   "execution_count": 8,
   "metadata": {},
   "outputs": [],
   "source": [
    "def options(names):\n",
    "    options = []\n",
    "    for i in names:\n",
    "        d = {}\n",
    "        d[\"label\"] = i\n",
    "        d[\"value\"] = i\n",
    "        options.append(d)\n",
    "        \n",
    "    return options"
   ]
  },
  {
   "cell_type": "code",
   "execution_count": 9,
   "metadata": {},
   "outputs": [],
   "source": [
    "import dash_bootstrap_components as dbc"
   ]
  },
  {
   "cell_type": "code",
   "execution_count": 10,
   "metadata": {},
   "outputs": [],
   "source": [
    "def drpdwn(i):\n",
    "    opts = options(names)\n",
    "    \n",
    "    return dcc.Dropdown(options = opts, value = names,id = i,multi = True,className='dropdown')"
   ]
  },
  {
   "cell_type": "code",
   "execution_count": 11,
   "metadata": {},
   "outputs": [],
   "source": [
    "df['today'] = dt.datetime.today()"
   ]
  },
  {
   "cell_type": "code",
   "execution_count": 17,
   "metadata": {},
   "outputs": [
    {
     "data": {
      "text/plain": [
       "Index(['Resource', 'year_month', 'time', 'activity', 'working_hours',\n",
       "       'monthly_hours', 'time_category_hours', 'time_category_percentage',\n",
       "       'activity_percentage', 'time_stat', 'activity_hours', 'today',\n",
       "       'age_month'],\n",
       "      dtype='object')"
      ]
     },
     "execution_count": 17,
     "metadata": {},
     "output_type": "execute_result"
    }
   ],
   "source": [
    "df.columns"
   ]
  },
  {
   "cell_type": "code",
   "execution_count": 18,
   "metadata": {},
   "outputs": [],
   "source": [
    "df['age_month'] = (df['today'].dt.to_period('M').view(dtype='int64') - pd.to_datetime(df['year_month']).dt.to_period('M').view(dtype='int64'))\n",
    "\n",
    "df['age_days'] = (df['today'].dt.to_period('D').view(dtype='int64') - pd.to_datetime(df['year_month']).dt.to_period('D').view(dtype='int64'))\n"
   ]
  },
  {
   "cell_type": "code",
   "execution_count": 23,
   "metadata": {},
   "outputs": [
    {
     "data": {
      "text/html": [
       "<div>\n",
       "<style scoped>\n",
       "    .dataframe tbody tr th:only-of-type {\n",
       "        vertical-align: middle;\n",
       "    }\n",
       "\n",
       "    .dataframe tbody tr th {\n",
       "        vertical-align: top;\n",
       "    }\n",
       "\n",
       "    .dataframe thead th {\n",
       "        text-align: right;\n",
       "    }\n",
       "</style>\n",
       "<table border=\"1\" class=\"dataframe\">\n",
       "  <thead>\n",
       "    <tr style=\"text-align: right;\">\n",
       "      <th></th>\n",
       "      <th>age_days</th>\n",
       "      <th>age_month</th>\n",
       "    </tr>\n",
       "  </thead>\n",
       "  <tbody>\n",
       "    <tr>\n",
       "      <th>1456</th>\n",
       "      <td>32</td>\n",
       "      <td>1</td>\n",
       "    </tr>\n",
       "    <tr>\n",
       "      <th>1281</th>\n",
       "      <td>32</td>\n",
       "      <td>1</td>\n",
       "    </tr>\n",
       "    <tr>\n",
       "      <th>1280</th>\n",
       "      <td>32</td>\n",
       "      <td>1</td>\n",
       "    </tr>\n",
       "    <tr>\n",
       "      <th>101</th>\n",
       "      <td>32</td>\n",
       "      <td>1</td>\n",
       "    </tr>\n",
       "    <tr>\n",
       "      <th>576</th>\n",
       "      <td>32</td>\n",
       "      <td>1</td>\n",
       "    </tr>\n",
       "    <tr>\n",
       "      <th>...</th>\n",
       "      <td>...</td>\n",
       "      <td>...</td>\n",
       "    </tr>\n",
       "    <tr>\n",
       "      <th>1060</th>\n",
       "      <td>581</td>\n",
       "      <td>19</td>\n",
       "    </tr>\n",
       "    <tr>\n",
       "      <th>1059</th>\n",
       "      <td>581</td>\n",
       "      <td>19</td>\n",
       "    </tr>\n",
       "    <tr>\n",
       "      <th>1058</th>\n",
       "      <td>581</td>\n",
       "      <td>19</td>\n",
       "    </tr>\n",
       "    <tr>\n",
       "      <th>436</th>\n",
       "      <td>581</td>\n",
       "      <td>19</td>\n",
       "    </tr>\n",
       "    <tr>\n",
       "      <th>664</th>\n",
       "      <td>581</td>\n",
       "      <td>19</td>\n",
       "    </tr>\n",
       "  </tbody>\n",
       "</table>\n",
       "<p>1457 rows × 2 columns</p>\n",
       "</div>"
      ],
      "text/plain": [
       "      age_days  age_month\n",
       "1456        32          1\n",
       "1281        32          1\n",
       "1280        32          1\n",
       "101         32          1\n",
       "576         32          1\n",
       "...        ...        ...\n",
       "1060       581         19\n",
       "1059       581         19\n",
       "1058       581         19\n",
       "436        581         19\n",
       "664        581         19\n",
       "\n",
       "[1457 rows x 2 columns]"
      ]
     },
     "execution_count": 23,
     "metadata": {},
     "output_type": "execute_result"
    }
   ],
   "source": [
    "df[['age_days','age_month']].sort_values('age_days')"
   ]
  },
  {
   "cell_type": "code",
   "execution_count": 13,
   "metadata": {},
   "outputs": [
    {
     "data": {
      "text/plain": [
       "1456     1\n",
       "1281     1\n",
       "1280     1\n",
       "101      1\n",
       "576      1\n",
       "        ..\n",
       "1060    19\n",
       "1059    19\n",
       "1058    19\n",
       "436     19\n",
       "664     19\n",
       "Name: age_month, Length: 1457, dtype: int64"
      ]
     },
     "execution_count": 13,
     "metadata": {},
     "output_type": "execute_result"
    }
   ],
   "source": [
    "df['age_month'].sort_values()"
   ]
  },
  {
   "cell_type": "code",
   "execution_count": 59,
   "metadata": {},
   "outputs": [],
   "source": [
    "def slider(id = 'slider'):\n",
    "    # labels = [1, 3, 6, 12, 15, 18, 24]\n",
    "    labels = [i for i in range(0,max(df['age_month'])+1,3)]\n",
    "    values = [1] + labels[1:]\n",
    "\n",
    "    labels[0] = '1 month'\n",
    "    labels = ['1 month'] + [str(i) + ' months' for i in labels[1:-1]] + ['all months']\n",
    "\n",
    "    # print(dict(zip(labels,values)))\n",
    "\n",
    "    marks = {v: {'label': l} for v, l in zip([v * 32 for v in values], labels)}\n",
    "    \n",
    "    # slide = dcc.Slider(30, max(df['age_days']),marks = marks)\n",
    "    return dcc.Slider(30, max(df['age_days']),value =  max(df['age_days']),marks = marks,className='slider',id=id)\n"
   ]
  },
  {
   "cell_type": "code",
   "execution_count": 60,
   "metadata": {},
   "outputs": [
    {
     "data": {
      "text/plain": [
       "Slider(min=30, max=581, marks={32: {'label': '1 month'}, 96: {'label': '3 months'}, 192: {'label': '6 months'}, 288: {'label': '9 months'}, 384: {'label': '12 months'}, 480: {'label': '15 months'}, 576: {'label': 'all months'}}, value=581, className='slider', id='slider')"
      ]
     },
     "execution_count": 60,
     "metadata": {},
     "output_type": "execute_result"
    }
   ],
   "source": [
    "slider()"
   ]
  },
  {
   "cell_type": "code",
   "execution_count": 61,
   "metadata": {},
   "outputs": [
    {
     "name": "stdout",
     "output_type": "stream",
     "text": [
      "Dash app running on http://127.0.0.1:8050/\n"
     ]
    }
   ],
   "source": [
    "hovertemplate = 'label = %{label}<br>Activity = %{customdata[0]}<br>Working hours = %{value}<extra></extra>'\n",
    "colour_map = dict(zip(df['time'].sort_values().unique(),px.colors.carto.Safe))\n",
    "colour_map['(?)'] = 'lightgrey'\n",
    "\n",
    "app = JupyterDash(__name__,external_stylesheets=[dbc.themes.COSMO])\n",
    "\n",
    "server = app.server\n",
    "\n",
    "app.layout = html.Div(children = [html.Div(\n",
    "\t\t\tchildren= [html.H1('Time Utilization per Month and Auditor',className='heading'),\n",
    "\t\t\t\t\thtml.Div([drpdwn('names'),slider()],className='dropdown'),\n",
    "\t\t\t\t\tdcc.Graph(figure = fig, id='graph', className='figure')\n",
    "\t\t\t\t]\n",
    "\t\t\t),\n",
    "            dcc.Store(id='clientside_data',data=df.to_json())\n",
    "\t\t]\n",
    "\t)\n",
    "\n",
    "@app.callback(\n",
    "\tOutput('graph','figure'),\n",
    "\tOutput('clientside_data','data'),\n",
    "\tInput('names','value'),\n",
    "\tInput('slider','value'))\n",
    "def update_figure(name,days):\n",
    "\n",
    "\tto_plot = df[(df['Resource'].isin(name)) & (df['age_days']<=days)]\n",
    "\n",
    "\tfig = px.treemap(to_plot,path=[px.Constant('Month'),'year_month','Resource','time','time_stat','activity','activity_hours'],\n",
    "\thover_data=['time','activity_hours'],values='working_hours',color = 'time',color_discrete_map=colour_map,maxdepth=5,width=1300, height= 800)\n",
    "\n",
    "\t# fig.update_layout(title='Time Utilization per Month and Auditor',title_x=0.5)\n",
    "\tfig.update_traces(hovertemplate=hovertemplate)\n",
    "\n",
    "\treturn fig, to_plot.to_json(orient='records')\n",
    "\t\n",
    "app.run_server()"
   ]
  },
  {
   "cell_type": "code",
   "execution_count": 3,
   "metadata": {},
   "outputs": [
    {
     "name": "stdout",
     "output_type": "stream",
     "text": [
      "Dash app running on http://127.0.0.1:8050/\n"
     ]
    }
   ],
   "source": [
    "from dash import Dash, dcc, html, Input, Output\n",
    "from jupyter_dash import JupyterDash\n",
    "import pandas as pd\n",
    "import json\n",
    "\n",
    "import plotly.express as px\n",
    "\n",
    "external_stylesheets = ['https://codepen.io/chriddyp/pen/bWLwgP.css']\n",
    "\n",
    "app = JupyterDash(__name__, external_stylesheets=external_stylesheets)\n",
    "\n",
    "df = pd.read_csv('https://raw.githubusercontent.com/plotly/datasets/master/gapminderDataFiveYear.csv')\n",
    "\n",
    "available_countries = df['country'].unique()\n",
    "\n",
    "app.layout = html.Div([\n",
    "    dcc.Graph(\n",
    "        id='clientside-graph-px'\n",
    "    ),\n",
    "    dcc.Store(\n",
    "        id='clientside-figure-store-px'\n",
    "    ),\n",
    "    'Indicator',\n",
    "    dcc.Dropdown(\n",
    "        {'pop' : 'Population', 'lifeExp': 'Life Expectancy', 'gdpPercap': 'GDP per Capita'},\n",
    "        'pop',\n",
    "        id='clientside-graph-indicator-px'\n",
    "    ),\n",
    "    'Country',\n",
    "    dcc.Dropdown(available_countries, 'Canada', id='clientside-graph-country-px'),\n",
    "    'Graph scale',\n",
    "    dcc.RadioItems(\n",
    "        ['linear', 'log'],\n",
    "        'linear',\n",
    "        id='clientside-graph-scale-px'\n",
    "    ),\n",
    "    html.Hr(),\n",
    "    html.Details([\n",
    "        html.Summary('Contents of figure storage'),\n",
    "        dcc.Markdown(\n",
    "            id='clientside-figure-json-px'\n",
    "        )\n",
    "    ])\n",
    "])\n",
    "\n",
    "\n",
    "@app.callback(\n",
    "    Output('clientside-figure-store-px', 'data'),\n",
    "    Input('clientside-graph-indicator-px', 'value'),\n",
    "    Input('clientside-graph-country-px', 'value')\n",
    ")\n",
    "def update_store_data(indicator, country):\n",
    "    dff = df[df['country'] == country]\n",
    "    return px.scatter(dff, x='year', y=str(indicator))\n",
    "\n",
    "\n",
    "app.clientside_callback(\n",
    "    \"\"\"\n",
    "    function(figure, scale) {\n",
    "        if(figure === undefined) {\n",
    "            return {'data': [], 'layout': {}};\n",
    "        }\n",
    "        const fig = Object.assign({}, figure, {\n",
    "            'layout': {\n",
    "                ...figure.layout,\n",
    "                'yaxis': {\n",
    "                    ...figure.layout.yaxis, type: scale\n",
    "                }\n",
    "             }\n",
    "        });\n",
    "        return fig;\n",
    "    }\n",
    "    \"\"\",\n",
    "    Output('clientside-graph-px', 'figure'),\n",
    "    Input('clientside-figure-store-px', 'data'),\n",
    "    Input('clientside-graph-scale-px', 'value')\n",
    ")\n",
    "\n",
    "\n",
    "@app.callback(\n",
    "    Output('clientside-figure-json-px', 'children'),\n",
    "    Input('clientside-figure-store-px', 'data')\n",
    ")\n",
    "def generated_px_figure_json(data):\n",
    "    return '```\\n'+json.dumps(data, indent=2)+'\\n```'\n",
    "\n",
    "\n",
    "if __name__ == '__main__':\n",
    "    app.run_server(debug=True)\n"
   ]
  },
  {
   "cell_type": "code",
   "execution_count": null,
   "metadata": {},
   "outputs": [],
   "source": []
  }
 ],
 "metadata": {
  "kernelspec": {
   "display_name": "Python 3.7.9 ('base')",
   "language": "python",
   "name": "python3"
  },
  "language_info": {
   "codemirror_mode": {
    "name": "ipython",
    "version": 3
   },
   "file_extension": ".py",
   "mimetype": "text/x-python",
   "name": "python",
   "nbconvert_exporter": "python",
   "pygments_lexer": "ipython3",
   "version": "3.7.9"
  },
  "orig_nbformat": 4,
  "vscode": {
   "interpreter": {
    "hash": "40d3a090f54c6569ab1632332b64b2c03c39dcf918b08424e98f38b5ae0af88f"
   }
  }
 },
 "nbformat": 4,
 "nbformat_minor": 2
}
