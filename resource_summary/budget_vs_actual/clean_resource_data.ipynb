{
 "cells": [
  {
   "cell_type": "code",
   "execution_count": 1,
   "metadata": {},
   "outputs": [],
   "source": [
    "path = 'REC NOT CLOSED VFinale2.xlsm'\n",
    "import pandas as pd"
   ]
  },
  {
   "cell_type": "code",
   "execution_count": 5,
   "metadata": {},
   "outputs": [],
   "source": [
    "def preprocess_data(path = '../RESOURCE SUMMARY_20220912.xlsx'):\n",
    "    wb = pd.read_excel(path,'Sheet1',header=1)\n",
    "\n",
    "    correspondences = {}\n",
    "\n",
    "    nonworking = ['10th Day','9th Day','8th day','All Saints Day','Annual Leave','Ascension Day','Easter Monday','National Day',\n",
    "    'Other Leave','Sick Leave','Special Leave granted by the DG','Whit Monday']\n",
    "\n",
    "    non_audit = ['Administrative Matters & Support','Covid-19 Sanitary Situation','GC and EXB (incl. Annual report)',\n",
    "        'HR Management & Recruitment', 'IOS Management - Ad-hoc Requests','IOS Team Meetings', 'JIU Coordination',\n",
    "        'OAC support, preparation and meetings','Participation to UNESCO Working Groups or Task Forces',\n",
    "        'Policy or Administrative Manual Item Review','Support to Investigation Unit',\n",
    "        'Trainings or Workshops']\n",
    "\n",
    "    audit = ['Audit-Ad-hoc request / Advisory','Audit-Annual Planning', 'Audit-QAIP (incl. TeamMate+ Migration)']\n",
    "\n",
    "    reco = ['Audit-Recommendation Follow-up']\n",
    "\n",
    "    correspondences['Nonworking'] = nonworking\n",
    "    correspondences['Non audit time'] = non_audit\n",
    "    correspondences['Audit Time'] = audit\n",
    "    correspondences['Reco Follow-up Time'] = reco\n",
    "\n",
    "    # Insert correspondences for the different Time Categories\n",
    "    wb['Reporting categories'] = 'Audit Time'\n",
    "    for i in correspondences: \n",
    "        wb['Reporting categories'].mask(wb['Time Category'].isin(correspondences[i]),i,inplace=True)\n",
    "\n",
    "    # Make Phase 5 -- Recommendation followups be repored as Reco Follow up time\n",
    "    wb['Reporting categories'].mask(wb['Phase'].astype('string').str.startswith('5'),'Reco Follow-up Time',inplace=True)\n",
    "\n",
    "    # Remove IOS/... prefix from Assignment name\n",
    "    prefix_removed = wb['Assignment Name'].str.extract(r'(^IOS/[a-zA-Z0-9_\\./]+)-([a-zA-Z0-9_\\' -]+)')[1]\n",
    "    idxs = ~wb['Assignment Name'].str.startswith('IOS/').fillna(False)\n",
    "    prefix_removed[idxs] = wb[idxs]['Assignment Name']\n",
    "    wb['Assignment Name'] = prefix_removed\n",
    "\n",
    "    offices = ['Addis','IICBA','Harare','Havana','Yaound','San Jos','Tehran']\n",
    "    sheet_names = ['IRA_Addis_20220616_after CSA','IRA IICBA', 'IRA Harare 24 June 2022', 'IRA Havana Final', 'IRA Yaounde',\n",
    "            'San José_Leadsheet ', 'IRA Teheran_Jan 2022']\n",
    "    connector = dict(zip(offices,sheet_names))\n",
    "\n",
    "    actual = wb[wb['Assignment Name'].str.contains('|'.join(offices),na=False,case=False)]\n",
    "\n",
    "\n",
    "    return wb"
   ]
  },
  {
   "cell_type": "code",
   "execution_count": 6,
   "metadata": {},
   "outputs": [],
   "source": [
    "wb = preprocess_data()"
   ]
  },
  {
   "cell_type": "code",
   "execution_count": 7,
   "metadata": {},
   "outputs": [],
   "source": [
    "with pd.ExcelWriter('resource_data_cleaned.xlsx',mode = 'w',engine='openpyxl') as writer:\n",
    "    wb.to_excel(writer,sheet_name='sheet_1',index=False)"
   ]
  },
  {
   "cell_type": "code",
   "execution_count": 16,
   "metadata": {},
   "outputs": [
    {
     "data": {
      "text/plain": [
       "FO-San Jose               258\n",
       "FO-Crosscutting Issues    254\n",
       "FO-Yaounde                245\n",
       "FO-TEH                    191\n",
       "FO-MXC                    177\n",
       "FO-Harare                 174\n",
       "FO-Addis Ababa            163\n",
       "FO-DHA                    124\n",
       "FO-KAT                    121\n",
       "FO-HAV                    116\n",
       "FO-JUB                     75\n",
       "FO-Vendors & Bank          17\n",
       "FO-Kinshasa Remote          6\n",
       "Name: Assignment Code, dtype: int64"
      ]
     },
     "execution_count": 16,
     "metadata": {},
     "output_type": "execute_result"
    }
   ],
   "source": [
    "wb[wb['Assignment Code'].fillna('').str.contains('FO')]['Assignment Code'].str.slice(5).value_counts()"
   ]
  },
  {
   "cell_type": "code",
   "execution_count": null,
   "metadata": {},
   "outputs": [],
   "source": []
  }
 ],
 "metadata": {
  "kernelspec": {
   "display_name": "Python 3.7.9 ('base')",
   "language": "python",
   "name": "python3"
  },
  "language_info": {
   "codemirror_mode": {
    "name": "ipython",
    "version": 3
   },
   "file_extension": ".py",
   "mimetype": "text/x-python",
   "name": "python",
   "nbconvert_exporter": "python",
   "pygments_lexer": "ipython3",
   "version": "3.7.9"
  },
  "orig_nbformat": 4,
  "vscode": {
   "interpreter": {
    "hash": "40d3a090f54c6569ab1632332b64b2c03c39dcf918b08424e98f38b5ae0af88f"
   }
  }
 },
 "nbformat": 4,
 "nbformat_minor": 2
}
