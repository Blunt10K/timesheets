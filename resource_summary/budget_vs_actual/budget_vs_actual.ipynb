{
 "cells": [
  {
   "cell_type": "code",
   "execution_count": 1,
   "metadata": {},
   "outputs": [],
   "source": [
    "path = 'REC NOT CLOSED VFinale2.xlsm'\n",
    "import pandas as pd"
   ]
  },
  {
   "cell_type": "code",
   "execution_count": 2,
   "metadata": {},
   "outputs": [],
   "source": [
    "def preprocess_data(path = '../RESOURCE SUMMARY_20220912.xlsx'):\n",
    "    wb = pd.read_excel(path,'Sheet1',header=1)\n",
    "\n",
    "    correspondences = {}\n",
    "\n",
    "    nonworking = ['10th Day','9th Day','8th day','All Saints Day','Annual Leave','Ascension Day','Easter Monday','National Day',\n",
    "    'Other Leave','Sick Leave','Special Leave granted by the DG','Whit Monday']\n",
    "\n",
    "    non_audit = ['Administrative Matters & Support','Covid-19 Sanitary Situation','GC and EXB (incl. Annual report)',\n",
    "        'HR Management & Recruitment', 'IOS Management - Ad-hoc Requests','IOS Team Meetings', 'JIU Coordination',\n",
    "        'OAC support, preparation and meetings','Participation to UNESCO Working Groups or Task Forces',\n",
    "        'Policy or Administrative Manual Item Review','Support to Investigation Unit',\n",
    "        'Trainings or Workshops']\n",
    "\n",
    "    audit = ['Audit-Ad-hoc request / Advisory','Audit-Annual Planning', 'Audit-QAIP (incl. TeamMate+ Migration)']\n",
    "\n",
    "    reco = ['Audit-Recommendation Follow-up']\n",
    "\n",
    "    correspondences['Nonworking'] = nonworking\n",
    "    correspondences['Non audit time'] = non_audit\n",
    "    correspondences['Audit Time'] = audit\n",
    "    correspondences['Reco Follow-up Time'] = reco\n",
    "\n",
    "    # Insert correspondences for the different Time Categories\n",
    "    wb['Reporting categories'] = 'Audit Time'\n",
    "    for i in correspondences: \n",
    "        wb['Reporting categories'].mask(wb['Time Category'].isin(correspondences[i]),i,inplace=True)\n",
    "\n",
    "    # Make Phase 5 -- Recommendation followups be repored as Reco Follow up time\n",
    "    wb['Reporting categories'].mask(wb['Phase'].astype('string').str.startswith('5'),'Reco Follow-up Time',inplace=True)\n",
    "\n",
    "    # Remove IOS/... prefix from Assignment name\n",
    "    prefix_removed = wb['Assignment Name'].str.extract(r'(^IOS/[a-zA-Z0-9_\\./]+)-([a-zA-Z0-9_\\' -]+)')[1]\n",
    "    idxs = ~wb['Assignment Name'].str.startswith('IOS/').fillna(False)\n",
    "    prefix_removed[idxs] = wb[idxs]['Assignment Name']\n",
    "    wb['Assignment Name'] = prefix_removed\n",
    "\n",
    "\n",
    "    return wb"
   ]
  },
  {
   "cell_type": "code",
   "execution_count": 3,
   "metadata": {},
   "outputs": [],
   "source": [
    "def preprocess_data(path = '../RESOURCE SUMMARY_20220912.xlsx'):\n",
    "    wb = pd.read_excel(path,'Sheet1',header=1)\n",
    "\n",
    "    correspondences = {}\n",
    "\n",
    "    nonworking = ['10th Day','9th Day','8th day','All Saints Day','Annual Leave','Ascension Day','Easter Monday','National Day',\n",
    "    'Other Leave','Sick Leave','Special Leave granted by the DG','Whit Monday']\n",
    "\n",
    "    non_audit = ['Administrative Matters & Support','Covid-19 Sanitary Situation','GC and EXB (incl. Annual report)',\n",
    "        'HR Management & Recruitment', 'IOS Management - Ad-hoc Requests','IOS Team Meetings', 'JIU Coordination',\n",
    "        'OAC support, preparation and meetings','Participation to UNESCO Working Groups or Task Forces',\n",
    "        'Policy or Administrative Manual Item Review','Support to Investigation Unit',\n",
    "        'Trainings or Workshops']\n",
    "\n",
    "    audit = ['Audit-Ad-hoc request / Advisory','Audit-Annual Planning', 'Audit-QAIP (incl. TeamMate+ Migration)']\n",
    "\n",
    "    reco = ['Audit-Recommendation Follow-up']\n",
    "\n",
    "    correspondences['Nonworking'] = nonworking\n",
    "    correspondences['Non audit time'] = non_audit\n",
    "    correspondences['Audit Time'] = audit\n",
    "    correspondences['Reco Follow-up Time'] = reco\n",
    "\n",
    "    # Insert correspondences for the different Time Categories\n",
    "    wb['Reporting categories'] = 'Audit Time'\n",
    "    for i in correspondences: \n",
    "        wb['Reporting categories'].mask(wb['Time Category'].isin(correspondences[i]),i,inplace=True)\n",
    "\n",
    "    # Make Phase 5 -- Recommendation followups be repored as Reco Follow up time\n",
    "    wb['Reporting categories'].mask(wb['Phase'].astype('string').str.startswith('5'),'Reco Follow-up Time',inplace=True)\n",
    "\n",
    "\n",
    "    return wb\n",
    "        "
   ]
  },
  {
   "cell_type": "code",
   "execution_count": 4,
   "metadata": {},
   "outputs": [],
   "source": [
    "wb = preprocess_data()"
   ]
  },
  {
   "cell_type": "code",
   "execution_count": 5,
   "metadata": {},
   "outputs": [],
   "source": [
    "import plotly.express as px"
   ]
  },
  {
   "cell_type": "code",
   "execution_count": 6,
   "metadata": {},
   "outputs": [],
   "source": [
    "import numpy as np"
   ]
  },
  {
   "cell_type": "markdown",
   "metadata": {},
   "source": [
    "# Budgetted time vs time spent"
   ]
  },
  {
   "cell_type": "code",
   "execution_count": 7,
   "metadata": {},
   "outputs": [],
   "source": [
    "from docx import Document\n",
    "import pandas as pd"
   ]
  },
  {
   "cell_type": "code",
   "execution_count": 8,
   "metadata": {},
   "outputs": [],
   "source": [
    "from os import listdir\n",
    "from os.path import join as osjoin"
   ]
  },
  {
   "cell_type": "code",
   "execution_count": 9,
   "metadata": {},
   "outputs": [],
   "source": [
    "file = '../OneDrive_1_05-09-2022/IRA Harare 24 June 2022.docx'\n"
   ]
  },
  {
   "cell_type": "code",
   "execution_count": 10,
   "metadata": {},
   "outputs": [],
   "source": [
    "def extract_load(path = '../OneDrive_1_05-09-2022'):\n",
    "    header_of_interest = ['Activity/ Persons-days','Planning','Fieldwork','Draft report','Finalization','Total']\n",
    "    int_cols = ['Planning', 'Fieldwork', 'Draft report', 'Finalization', 'Total']\n",
    "    dtypes = ['int64']*len(int_cols)\n",
    "\n",
    "    doc_files = [i for i in listdir(path) if '.docx' in i]\n",
    "\n",
    "    for f in doc_files:\n",
    "\n",
    "        sheet_name = f[:-5]\n",
    "   \n",
    "        file = osjoin(path,f)\n",
    "        print(sheet_name)\n",
    "        doc = Document(file)\n",
    "        tables = doc.tables\n",
    "\n",
    "        \n",
    "        for t in tables:\n",
    "            header = [cell.text for cell in t.rows[0].cells]\n",
    "            if header == header_of_interest:\n",
    "                data = [[cell.text for cell in row.cells] for row in t.rows[1:]]\n",
    "                break\n",
    "\n",
    "        df = pd.DataFrame(data,columns = header_of_interest)\n",
    "\n",
    "        for a in int_cols:\n",
    "            df[a] = pd.to_numeric(df[a],errors = 'coerce',downcast='integer')    \n",
    "        \n",
    "        with pd.ExcelWriter('Audit budget days.xlsx',mode = 'a',engine='openpyxl',if_sheet_exists='replace') as writer:\n",
    "            df.to_excel(writer,sheet_name=sheet_name,index=False)\n",
    "\n",
    "        "
   ]
  },
  {
   "cell_type": "code",
   "execution_count": 11,
   "metadata": {},
   "outputs": [],
   "source": [
    "# extract_load()"
   ]
  },
  {
   "cell_type": "code",
   "execution_count": 12,
   "metadata": {},
   "outputs": [],
   "source": [
    "d = pd.read_excel('../Field Office Leadhseets.xlsx',index_col=False,sheet_name=None)"
   ]
  },
  {
   "cell_type": "code",
   "execution_count": 13,
   "metadata": {},
   "outputs": [
    {
     "data": {
      "text/plain": [
       "dict_keys(['IRA_Addis_20220616_after CSA', 'IRA IICBA', 'IRA Harare 24 June 2022', 'IRA Havana Final', 'IRA Yaounde', 'San José_Leadsheet ', 'IRA Teheran_Jan 2022'])"
      ]
     },
     "execution_count": 13,
     "metadata": {},
     "output_type": "execute_result"
    }
   ],
   "source": [
    "d.keys()"
   ]
  },
  {
   "cell_type": "code",
   "execution_count": 14,
   "metadata": {},
   "outputs": [],
   "source": [
    "sheet_names = ['IRA_Addis_20220616_after CSA','IRA IICBA', 'IRA Harare 24 June 2022', 'IRA Havana Final', 'IRA Yaounde',\n",
    "            'San José_Leadsheet ', 'IRA Teheran_Jan 2022']"
   ]
  },
  {
   "cell_type": "code",
   "execution_count": 15,
   "metadata": {},
   "outputs": [],
   "source": [
    "offices = ['Addis','IICBA','Harare','Havana','Yaound','San Jos','Tehran']"
   ]
  },
  {
   "cell_type": "code",
   "execution_count": 16,
   "metadata": {},
   "outputs": [],
   "source": [
    "connector = dict(zip(offices,sheet_names))"
   ]
  },
  {
   "cell_type": "code",
   "execution_count": 17,
   "metadata": {},
   "outputs": [],
   "source": [
    "actual = wb[wb['Assignment Name'].str.contains('|'.join(offices),na=False,case=False)]"
   ]
  },
  {
   "cell_type": "code",
   "execution_count": 18,
   "metadata": {},
   "outputs": [],
   "source": [
    "actual = actual.assign(Date=pd.to_datetime(actual['Date']))"
   ]
  },
  {
   "cell_type": "code",
   "execution_count": 19,
   "metadata": {},
   "outputs": [],
   "source": [
    "actual['year'] = actual['Date'].dt.strftime('%Y')"
   ]
  },
  {
   "cell_type": "code",
   "execution_count": 20,
   "metadata": {},
   "outputs": [],
   "source": [
    "actual['working_hours'] = actual['Project Hours'] + actual['Admin Hours']"
   ]
  },
  {
   "cell_type": "code",
   "execution_count": 21,
   "metadata": {},
   "outputs": [],
   "source": [
    "for k in connector:\n",
    "    key = connector[k]\n",
    "    d[key]['name'] = d[key]['Activity/ Persons-days'].str.extract(r'(\\S+$)')[0]\n",
    "    d[key]['name'] = d[key]['name'].str.slice(1,-1)\n",
    "    d[key]['Planning'] *= 7.5\n",
    "    d[key]['Fieldwork'] *= 7.5\n",
    "    d[key]['Draft report'] *= 7.5\n",
    "    d[key]['Finalization'] *= 7.5\n",
    "    d[key]['Total'] *= 7.5\n",
    "    d[key]['office'] = k"
   ]
  },
  {
   "cell_type": "code",
   "execution_count": 22,
   "metadata": {},
   "outputs": [],
   "source": [
    "p = ['Planning','Fieldwork','Draft report','Finalization']\n",
    "a = ['1-Planning', '2-Fieldwork', '3-Reporting', '4-Finalization of Workpapers']"
   ]
  },
  {
   "cell_type": "code",
   "execution_count": 23,
   "metadata": {},
   "outputs": [],
   "source": [
    "phase_mapper = dict(zip(a,p))"
   ]
  },
  {
   "cell_type": "code",
   "execution_count": 24,
   "metadata": {},
   "outputs": [],
   "source": [
    "actual['surname'] = actual['Resource'].str.extract(r'(\\s)(\\w+)')[1]"
   ]
  },
  {
   "cell_type": "code",
   "execution_count": 25,
   "metadata": {},
   "outputs": [],
   "source": [
    "budget = pd.DataFrame()"
   ]
  },
  {
   "cell_type": "code",
   "execution_count": 33,
   "metadata": {},
   "outputs": [],
   "source": []
  },
  {
   "cell_type": "code",
   "execution_count": 26,
   "metadata": {},
   "outputs": [],
   "source": [
    "for b in d:\n",
    "    budget = pd.concat((budget,d[b]))"
   ]
  },
  {
   "cell_type": "code",
   "execution_count": 27,
   "metadata": {},
   "outputs": [],
   "source": [
    "budget = budget[budget['name']!='ota']#.drop(columns=['Total'])"
   ]
  },
  {
   "cell_type": "code",
   "execution_count": 28,
   "metadata": {},
   "outputs": [],
   "source": [
    "ofs = ['('+i+')' for i in connector.keys()]\n",
    "sd = actual['Assignment Name'].str.extract('|'.join(ofs))"
   ]
  },
  {
   "cell_type": "code",
   "execution_count": 29,
   "metadata": {},
   "outputs": [],
   "source": [
    "ofs = pd.Series(dtype = 'string')\n",
    "\n",
    "for c in sd.columns:\n",
    "    ofs = pd.concat((ofs,sd[c][~sd[c].isna()]))"
   ]
  },
  {
   "cell_type": "code",
   "execution_count": 34,
   "metadata": {},
   "outputs": [],
   "source": [
    "actual['office'] = ofs"
   ]
  },
  {
   "cell_type": "code",
   "execution_count": 35,
   "metadata": {},
   "outputs": [],
   "source": [
    "phase_mapper = dict(zip(actual['Phase'].sort_values().unique(),budget.columns[1:]))\n",
    "categories = ['office','phase']\n"
   ]
  },
  {
   "cell_type": "code",
   "execution_count": 36,
   "metadata": {},
   "outputs": [],
   "source": [
    "actual['phase'] = ''\n",
    "for k in phase_mapper:\n",
    "    actual['phase'].mask(actual['Phase']==k,phase_mapper[k],inplace=True)"
   ]
  },
  {
   "cell_type": "code",
   "execution_count": 37,
   "metadata": {},
   "outputs": [],
   "source": [
    "budget = budget.groupby(['office'],as_index=False).sum().melt(id_vars=['office'],var_name='phase',value_name='planned_hours',\n",
    "value_vars=['Planning','Fieldwork','Draft report','Finalization','Total'])"
   ]
  },
  {
   "cell_type": "code",
   "execution_count": 38,
   "metadata": {},
   "outputs": [],
   "source": [
    "budget['phase'].mask(budget['phase']=='Total','Overall',inplace=True)"
   ]
  },
  {
   "cell_type": "code",
   "execution_count": 39,
   "metadata": {},
   "outputs": [],
   "source": [
    "totals = actual[actual.columns[-4:]].groupby(['office'],as_index=False).sum()"
   ]
  },
  {
   "cell_type": "code",
   "execution_count": 40,
   "metadata": {},
   "outputs": [],
   "source": [
    "totals['phase']='Overall'"
   ]
  },
  {
   "cell_type": "code",
   "execution_count": 41,
   "metadata": {},
   "outputs": [],
   "source": [
    "act = actual[actual.columns[-4:]].groupby(categories,as_index=False).sum()\n",
    "act = pd.concat((act,totals))"
   ]
  },
  {
   "cell_type": "code",
   "execution_count": 42,
   "metadata": {},
   "outputs": [],
   "source": [
    "budget = budget.groupby(categories).sum()"
   ]
  },
  {
   "cell_type": "code",
   "execution_count": 43,
   "metadata": {},
   "outputs": [],
   "source": [
    "act.set_index(categories,inplace=True)"
   ]
  },
  {
   "cell_type": "code",
   "execution_count": 47,
   "metadata": {},
   "outputs": [
    {
     "data": {
      "text/plain": [
       "array(['2022-FO-HAV', '2022-FO-San Jose', '2022-FO-Harare', '2021-FO-TEH',\n",
       "       '2022-FO-Addis Ababa', '2022-FO-Yaounde', '2022-IN-IICBA'],\n",
       "      dtype=object)"
      ]
     },
     "execution_count": 47,
     "metadata": {},
     "output_type": "execute_result"
    }
   ],
   "source": [
    "actual['Assignment Code'].unique()"
   ]
  },
  {
   "cell_type": "code",
   "execution_count": 44,
   "metadata": {},
   "outputs": [],
   "source": [
    "df = budget.join(act).reset_index()"
   ]
  },
  {
   "cell_type": "code",
   "execution_count": 40,
   "metadata": {},
   "outputs": [],
   "source": [
    "df['diff'] = df['planned_hours']-df['working_hours']"
   ]
  },
  {
   "cell_type": "code",
   "execution_count": 41,
   "metadata": {},
   "outputs": [],
   "source": [
    "df['status'] = 'Within budget'\n",
    "df['status'].where(df['diff']>0,'Out of Budget',inplace=True)"
   ]
  },
  {
   "cell_type": "code",
   "execution_count": 42,
   "metadata": {},
   "outputs": [],
   "source": [
    "df['city'] = df['office']\n",
    "df['city'].mask(df['city'] == 'San Jos','San José', inplace=True)\n",
    "df['city'].mask(df['city'] == 'Yaound','Yaounde', inplace=True)"
   ]
  },
  {
   "cell_type": "code",
   "execution_count": 43,
   "metadata": {},
   "outputs": [],
   "source": [
    "df['phase_num'] = 1\n",
    "for i in phase_mapper:\n",
    "    df['phase_num'].mask(df['phase'] == phase_mapper[i],int(i[0]),inplace=True)\n",
    "\n",
    "df['phase_num'].mask(df['phase'] == 'Overall',len(phase_mapper)+1,inplace=True)"
   ]
  },
  {
   "cell_type": "code",
   "execution_count": 44,
   "metadata": {},
   "outputs": [
    {
     "data": {
      "application/vnd.plotly.v1+json": {
       "config": {
        "plotlyServerURL": "https://plot.ly"
       },
       "data": [
        {
         "alignmentgroup": "True",
         "hovertemplate": "status=Out of Budget<br>city=Addis<br>Budget - spent (hours)=%{x}<br>phase=%{y}<extra></extra>",
         "legendgroup": "Out of Budget",
         "marker": {
          "color": "#636efa",
          "pattern": {
           "shape": ""
          }
         },
         "name": "Out of Budget",
         "offsetgroup": "Out of Budget",
         "orientation": "h",
         "showlegend": true,
         "textposition": "auto",
         "type": "bar",
         "x": [
          -2,
          -33.25
         ],
         "xaxis": "x",
         "y": [
          "Draft report",
          "Planning"
         ],
         "yaxis": "y"
        },
        {
         "alignmentgroup": "True",
         "hovertemplate": "status=Out of Budget<br>city=Harare<br>Budget - spent (hours)=%{x}<br>phase=%{y}<extra></extra>",
         "legendgroup": "Out of Budget",
         "marker": {
          "color": "#636efa",
          "pattern": {
           "shape": ""
          }
         },
         "name": "Out of Budget",
         "offsetgroup": "Out of Budget",
         "orientation": "h",
         "showlegend": false,
         "textposition": "auto",
         "type": "bar",
         "x": [
          -158.5,
          null,
          -250,
          -278
         ],
         "xaxis": "x2",
         "y": [
          "Fieldwork",
          "Finalization",
          "Overall",
          "Planning"
         ],
         "yaxis": "y2"
        },
        {
         "alignmentgroup": "True",
         "hovertemplate": "status=Out of Budget<br>city=Havana<br>Budget - spent (hours)=%{x}<br>phase=%{y}<extra></extra>",
         "legendgroup": "Out of Budget",
         "marker": {
          "color": "#636efa",
          "pattern": {
           "shape": ""
          }
         },
         "name": "Out of Budget",
         "offsetgroup": "Out of Budget",
         "orientation": "h",
         "showlegend": false,
         "textposition": "auto",
         "type": "bar",
         "x": [
          null,
          null
         ],
         "xaxis": "x3",
         "y": [
          "Draft report",
          "Finalization"
         ],
         "yaxis": "y3"
        },
        {
         "alignmentgroup": "True",
         "hovertemplate": "status=Out of Budget<br>city=San José<br>Budget - spent (hours)=%{x}<br>phase=%{y}<extra></extra>",
         "legendgroup": "Out of Budget",
         "marker": {
          "color": "#636efa",
          "pattern": {
           "shape": ""
          }
         },
         "name": "Out of Budget",
         "offsetgroup": "Out of Budget",
         "orientation": "h",
         "showlegend": false,
         "textposition": "auto",
         "type": "bar",
         "x": [
          -1.5,
          -193.5,
          -49.5,
          -192
         ],
         "xaxis": "x5",
         "y": [
          "Draft report",
          "Fieldwork",
          "Finalization",
          "Overall"
         ],
         "yaxis": "y5"
        },
        {
         "alignmentgroup": "True",
         "hovertemplate": "status=Out of Budget<br>city=Tehran<br>Budget - spent (hours)=%{x}<br>phase=%{y}<extra></extra>",
         "legendgroup": "Out of Budget",
         "marker": {
          "color": "#636efa",
          "pattern": {
           "shape": ""
          }
         },
         "name": "Out of Budget",
         "offsetgroup": "Out of Budget",
         "orientation": "h",
         "showlegend": false,
         "textposition": "auto",
         "type": "bar",
         "x": [
          -19.5,
          -67,
          -30.5,
          -120,
          -3
         ],
         "xaxis": "x6",
         "y": [
          "Draft report",
          "Fieldwork",
          "Finalization",
          "Overall",
          "Planning"
         ],
         "yaxis": "y6"
        },
        {
         "alignmentgroup": "True",
         "hovertemplate": "status=Out of Budget<br>city=Yaounde<br>Budget - spent (hours)=%{x}<br>phase=%{y}<extra></extra>",
         "legendgroup": "Out of Budget",
         "marker": {
          "color": "#636efa",
          "pattern": {
           "shape": ""
          }
         },
         "name": "Out of Budget",
         "offsetgroup": "Out of Budget",
         "orientation": "h",
         "showlegend": false,
         "textposition": "auto",
         "type": "bar",
         "x": [
          -137,
          -261.25,
          -17,
          -428.25,
          -13
         ],
         "xaxis": "x7",
         "y": [
          "Draft report",
          "Fieldwork",
          "Finalization",
          "Overall",
          "Planning"
         ],
         "yaxis": "y7"
        },
        {
         "alignmentgroup": "True",
         "hovertemplate": "status=Within budget<br>city=Addis<br>Budget - spent (hours)=%{x}<br>phase=%{y}<extra></extra>",
         "legendgroup": "Within budget",
         "marker": {
          "color": "#EF553B",
          "pattern": {
           "shape": ""
          }
         },
         "name": "Within budget",
         "offsetgroup": "Within budget",
         "orientation": "h",
         "showlegend": true,
         "textposition": "auto",
         "type": "bar",
         "x": [
          203,
          13.5,
          181.25
         ],
         "xaxis": "x",
         "y": [
          "Fieldwork",
          "Finalization",
          "Overall"
         ],
         "yaxis": "y"
        },
        {
         "alignmentgroup": "True",
         "hovertemplate": "status=Within budget<br>city=Harare<br>Budget - spent (hours)=%{x}<br>phase=%{y}<extra></extra>",
         "legendgroup": "Within budget",
         "marker": {
          "color": "#EF553B",
          "pattern": {
           "shape": ""
          }
         },
         "name": "Within budget",
         "offsetgroup": "Within budget",
         "orientation": "h",
         "showlegend": false,
         "textposition": "auto",
         "type": "bar",
         "x": [
          96.5
         ],
         "xaxis": "x2",
         "y": [
          "Draft report"
         ],
         "yaxis": "y2"
        },
        {
         "alignmentgroup": "True",
         "hovertemplate": "status=Within budget<br>city=Havana<br>Budget - spent (hours)=%{x}<br>phase=%{y}<extra></extra>",
         "legendgroup": "Within budget",
         "marker": {
          "color": "#EF553B",
          "pattern": {
           "shape": ""
          }
         },
         "name": "Within budget",
         "offsetgroup": "Within budget",
         "orientation": "h",
         "showlegend": false,
         "textposition": "auto",
         "type": "bar",
         "x": [
          85,
          317.5,
          45
         ],
         "xaxis": "x3",
         "y": [
          "Fieldwork",
          "Overall",
          "Planning"
         ],
         "yaxis": "y3"
        },
        {
         "alignmentgroup": "True",
         "hovertemplate": "status=Within budget<br>city=IICBA<br>Budget - spent (hours)=%{x}<br>phase=%{y}<extra></extra>",
         "legendgroup": "Within budget",
         "marker": {
          "color": "#EF553B",
          "pattern": {
           "shape": ""
          }
         },
         "name": "Within budget",
         "offsetgroup": "Within budget",
         "orientation": "h",
         "showlegend": false,
         "textposition": "auto",
         "type": "bar",
         "x": [
          139,
          174.5,
          94,
          535.5,
          128
         ],
         "xaxis": "x4",
         "y": [
          "Draft report",
          "Fieldwork",
          "Finalization",
          "Overall",
          "Planning"
         ],
         "yaxis": "y4"
        },
        {
         "alignmentgroup": "True",
         "hovertemplate": "status=Within budget<br>city=San José<br>Budget - spent (hours)=%{x}<br>phase=%{y}<extra></extra>",
         "legendgroup": "Within budget",
         "marker": {
          "color": "#EF553B",
          "pattern": {
           "shape": ""
          }
         },
         "name": "Within budget",
         "offsetgroup": "Within budget",
         "orientation": "h",
         "showlegend": false,
         "textposition": "auto",
         "type": "bar",
         "x": [
          52.5
         ],
         "xaxis": "x5",
         "y": [
          "Planning"
         ],
         "yaxis": "y5"
        }
       ],
       "layout": {
        "annotations": [
         {
          "showarrow": false,
          "text": "Addis",
          "x": 0.06285714285714285,
          "xanchor": "center",
          "xref": "paper",
          "y": 1,
          "yanchor": "bottom",
          "yref": "paper"
         },
         {
          "showarrow": false,
          "text": "Harare",
          "x": 0.20857142857142852,
          "xanchor": "center",
          "xref": "paper",
          "y": 1,
          "yanchor": "bottom",
          "yref": "paper"
         },
         {
          "showarrow": false,
          "text": "Havana",
          "x": 0.3542857142857142,
          "xanchor": "center",
          "xref": "paper",
          "y": 1,
          "yanchor": "bottom",
          "yref": "paper"
         },
         {
          "showarrow": false,
          "text": "IICBA",
          "x": 0.5,
          "xanchor": "center",
          "xref": "paper",
          "y": 1,
          "yanchor": "bottom",
          "yref": "paper"
         },
         {
          "showarrow": false,
          "text": "San José",
          "x": 0.6457142857142856,
          "xanchor": "center",
          "xref": "paper",
          "y": 1,
          "yanchor": "bottom",
          "yref": "paper"
         },
         {
          "showarrow": false,
          "text": "Tehran",
          "x": 0.7914285714285713,
          "xanchor": "center",
          "xref": "paper",
          "y": 1,
          "yanchor": "bottom",
          "yref": "paper"
         },
         {
          "showarrow": false,
          "text": "Yaounde",
          "x": 0.9371428571428569,
          "xanchor": "center",
          "xref": "paper",
          "y": 1,
          "yanchor": "bottom",
          "yref": "paper"
         },
         {
          "font": {
           "size": 34
          },
          "showarrow": false,
          "text": "Budget - actual (hours)",
          "textangle": 0,
          "x": 0.5,
          "xref": "paper",
          "y": -0.3,
          "yref": "paper"
         }
        ],
        "barmode": "relative",
        "legend": {
         "title": {
          "text": "status"
         },
         "tracegroupgap": 0
        },
        "template": {
         "data": {
          "bar": [
           {
            "error_x": {
             "color": "#2a3f5f"
            },
            "error_y": {
             "color": "#2a3f5f"
            },
            "marker": {
             "line": {
              "color": "#E5ECF6",
              "width": 0.5
             },
             "pattern": {
              "fillmode": "overlay",
              "size": 10,
              "solidity": 0.2
             }
            },
            "type": "bar"
           }
          ],
          "barpolar": [
           {
            "marker": {
             "line": {
              "color": "#E5ECF6",
              "width": 0.5
             },
             "pattern": {
              "fillmode": "overlay",
              "size": 10,
              "solidity": 0.2
             }
            },
            "type": "barpolar"
           }
          ],
          "carpet": [
           {
            "aaxis": {
             "endlinecolor": "#2a3f5f",
             "gridcolor": "white",
             "linecolor": "white",
             "minorgridcolor": "white",
             "startlinecolor": "#2a3f5f"
            },
            "baxis": {
             "endlinecolor": "#2a3f5f",
             "gridcolor": "white",
             "linecolor": "white",
             "minorgridcolor": "white",
             "startlinecolor": "#2a3f5f"
            },
            "type": "carpet"
           }
          ],
          "choropleth": [
           {
            "colorbar": {
             "outlinewidth": 0,
             "ticks": ""
            },
            "type": "choropleth"
           }
          ],
          "contour": [
           {
            "colorbar": {
             "outlinewidth": 0,
             "ticks": ""
            },
            "colorscale": [
             [
              0,
              "#0d0887"
             ],
             [
              0.1111111111111111,
              "#46039f"
             ],
             [
              0.2222222222222222,
              "#7201a8"
             ],
             [
              0.3333333333333333,
              "#9c179e"
             ],
             [
              0.4444444444444444,
              "#bd3786"
             ],
             [
              0.5555555555555556,
              "#d8576b"
             ],
             [
              0.6666666666666666,
              "#ed7953"
             ],
             [
              0.7777777777777778,
              "#fb9f3a"
             ],
             [
              0.8888888888888888,
              "#fdca26"
             ],
             [
              1,
              "#f0f921"
             ]
            ],
            "type": "contour"
           }
          ],
          "contourcarpet": [
           {
            "colorbar": {
             "outlinewidth": 0,
             "ticks": ""
            },
            "type": "contourcarpet"
           }
          ],
          "heatmap": [
           {
            "colorbar": {
             "outlinewidth": 0,
             "ticks": ""
            },
            "colorscale": [
             [
              0,
              "#0d0887"
             ],
             [
              0.1111111111111111,
              "#46039f"
             ],
             [
              0.2222222222222222,
              "#7201a8"
             ],
             [
              0.3333333333333333,
              "#9c179e"
             ],
             [
              0.4444444444444444,
              "#bd3786"
             ],
             [
              0.5555555555555556,
              "#d8576b"
             ],
             [
              0.6666666666666666,
              "#ed7953"
             ],
             [
              0.7777777777777778,
              "#fb9f3a"
             ],
             [
              0.8888888888888888,
              "#fdca26"
             ],
             [
              1,
              "#f0f921"
             ]
            ],
            "type": "heatmap"
           }
          ],
          "heatmapgl": [
           {
            "colorbar": {
             "outlinewidth": 0,
             "ticks": ""
            },
            "colorscale": [
             [
              0,
              "#0d0887"
             ],
             [
              0.1111111111111111,
              "#46039f"
             ],
             [
              0.2222222222222222,
              "#7201a8"
             ],
             [
              0.3333333333333333,
              "#9c179e"
             ],
             [
              0.4444444444444444,
              "#bd3786"
             ],
             [
              0.5555555555555556,
              "#d8576b"
             ],
             [
              0.6666666666666666,
              "#ed7953"
             ],
             [
              0.7777777777777778,
              "#fb9f3a"
             ],
             [
              0.8888888888888888,
              "#fdca26"
             ],
             [
              1,
              "#f0f921"
             ]
            ],
            "type": "heatmapgl"
           }
          ],
          "histogram": [
           {
            "marker": {
             "pattern": {
              "fillmode": "overlay",
              "size": 10,
              "solidity": 0.2
             }
            },
            "type": "histogram"
           }
          ],
          "histogram2d": [
           {
            "colorbar": {
             "outlinewidth": 0,
             "ticks": ""
            },
            "colorscale": [
             [
              0,
              "#0d0887"
             ],
             [
              0.1111111111111111,
              "#46039f"
             ],
             [
              0.2222222222222222,
              "#7201a8"
             ],
             [
              0.3333333333333333,
              "#9c179e"
             ],
             [
              0.4444444444444444,
              "#bd3786"
             ],
             [
              0.5555555555555556,
              "#d8576b"
             ],
             [
              0.6666666666666666,
              "#ed7953"
             ],
             [
              0.7777777777777778,
              "#fb9f3a"
             ],
             [
              0.8888888888888888,
              "#fdca26"
             ],
             [
              1,
              "#f0f921"
             ]
            ],
            "type": "histogram2d"
           }
          ],
          "histogram2dcontour": [
           {
            "colorbar": {
             "outlinewidth": 0,
             "ticks": ""
            },
            "colorscale": [
             [
              0,
              "#0d0887"
             ],
             [
              0.1111111111111111,
              "#46039f"
             ],
             [
              0.2222222222222222,
              "#7201a8"
             ],
             [
              0.3333333333333333,
              "#9c179e"
             ],
             [
              0.4444444444444444,
              "#bd3786"
             ],
             [
              0.5555555555555556,
              "#d8576b"
             ],
             [
              0.6666666666666666,
              "#ed7953"
             ],
             [
              0.7777777777777778,
              "#fb9f3a"
             ],
             [
              0.8888888888888888,
              "#fdca26"
             ],
             [
              1,
              "#f0f921"
             ]
            ],
            "type": "histogram2dcontour"
           }
          ],
          "mesh3d": [
           {
            "colorbar": {
             "outlinewidth": 0,
             "ticks": ""
            },
            "type": "mesh3d"
           }
          ],
          "parcoords": [
           {
            "line": {
             "colorbar": {
              "outlinewidth": 0,
              "ticks": ""
             }
            },
            "type": "parcoords"
           }
          ],
          "pie": [
           {
            "automargin": true,
            "type": "pie"
           }
          ],
          "scatter": [
           {
            "marker": {
             "colorbar": {
              "outlinewidth": 0,
              "ticks": ""
             }
            },
            "type": "scatter"
           }
          ],
          "scatter3d": [
           {
            "line": {
             "colorbar": {
              "outlinewidth": 0,
              "ticks": ""
             }
            },
            "marker": {
             "colorbar": {
              "outlinewidth": 0,
              "ticks": ""
             }
            },
            "type": "scatter3d"
           }
          ],
          "scattercarpet": [
           {
            "marker": {
             "colorbar": {
              "outlinewidth": 0,
              "ticks": ""
             }
            },
            "type": "scattercarpet"
           }
          ],
          "scattergeo": [
           {
            "marker": {
             "colorbar": {
              "outlinewidth": 0,
              "ticks": ""
             }
            },
            "type": "scattergeo"
           }
          ],
          "scattergl": [
           {
            "marker": {
             "colorbar": {
              "outlinewidth": 0,
              "ticks": ""
             }
            },
            "type": "scattergl"
           }
          ],
          "scattermapbox": [
           {
            "marker": {
             "colorbar": {
              "outlinewidth": 0,
              "ticks": ""
             }
            },
            "type": "scattermapbox"
           }
          ],
          "scatterpolar": [
           {
            "marker": {
             "colorbar": {
              "outlinewidth": 0,
              "ticks": ""
             }
            },
            "type": "scatterpolar"
           }
          ],
          "scatterpolargl": [
           {
            "marker": {
             "colorbar": {
              "outlinewidth": 0,
              "ticks": ""
             }
            },
            "type": "scatterpolargl"
           }
          ],
          "scatterternary": [
           {
            "marker": {
             "colorbar": {
              "outlinewidth": 0,
              "ticks": ""
             }
            },
            "type": "scatterternary"
           }
          ],
          "surface": [
           {
            "colorbar": {
             "outlinewidth": 0,
             "ticks": ""
            },
            "colorscale": [
             [
              0,
              "#0d0887"
             ],
             [
              0.1111111111111111,
              "#46039f"
             ],
             [
              0.2222222222222222,
              "#7201a8"
             ],
             [
              0.3333333333333333,
              "#9c179e"
             ],
             [
              0.4444444444444444,
              "#bd3786"
             ],
             [
              0.5555555555555556,
              "#d8576b"
             ],
             [
              0.6666666666666666,
              "#ed7953"
             ],
             [
              0.7777777777777778,
              "#fb9f3a"
             ],
             [
              0.8888888888888888,
              "#fdca26"
             ],
             [
              1,
              "#f0f921"
             ]
            ],
            "type": "surface"
           }
          ],
          "table": [
           {
            "cells": {
             "fill": {
              "color": "#EBF0F8"
             },
             "line": {
              "color": "white"
             }
            },
            "header": {
             "fill": {
              "color": "#C8D4E3"
             },
             "line": {
              "color": "white"
             }
            },
            "type": "table"
           }
          ]
         },
         "layout": {
          "annotationdefaults": {
           "arrowcolor": "#2a3f5f",
           "arrowhead": 0,
           "arrowwidth": 1
          },
          "autotypenumbers": "strict",
          "coloraxis": {
           "colorbar": {
            "outlinewidth": 0,
            "ticks": ""
           }
          },
          "colorscale": {
           "diverging": [
            [
             0,
             "#8e0152"
            ],
            [
             0.1,
             "#c51b7d"
            ],
            [
             0.2,
             "#de77ae"
            ],
            [
             0.3,
             "#f1b6da"
            ],
            [
             0.4,
             "#fde0ef"
            ],
            [
             0.5,
             "#f7f7f7"
            ],
            [
             0.6,
             "#e6f5d0"
            ],
            [
             0.7,
             "#b8e186"
            ],
            [
             0.8,
             "#7fbc41"
            ],
            [
             0.9,
             "#4d9221"
            ],
            [
             1,
             "#276419"
            ]
           ],
           "sequential": [
            [
             0,
             "#0d0887"
            ],
            [
             0.1111111111111111,
             "#46039f"
            ],
            [
             0.2222222222222222,
             "#7201a8"
            ],
            [
             0.3333333333333333,
             "#9c179e"
            ],
            [
             0.4444444444444444,
             "#bd3786"
            ],
            [
             0.5555555555555556,
             "#d8576b"
            ],
            [
             0.6666666666666666,
             "#ed7953"
            ],
            [
             0.7777777777777778,
             "#fb9f3a"
            ],
            [
             0.8888888888888888,
             "#fdca26"
            ],
            [
             1,
             "#f0f921"
            ]
           ],
           "sequentialminus": [
            [
             0,
             "#0d0887"
            ],
            [
             0.1111111111111111,
             "#46039f"
            ],
            [
             0.2222222222222222,
             "#7201a8"
            ],
            [
             0.3333333333333333,
             "#9c179e"
            ],
            [
             0.4444444444444444,
             "#bd3786"
            ],
            [
             0.5555555555555556,
             "#d8576b"
            ],
            [
             0.6666666666666666,
             "#ed7953"
            ],
            [
             0.7777777777777778,
             "#fb9f3a"
            ],
            [
             0.8888888888888888,
             "#fdca26"
            ],
            [
             1,
             "#f0f921"
            ]
           ]
          },
          "colorway": [
           "#636efa",
           "#EF553B",
           "#00cc96",
           "#ab63fa",
           "#FFA15A",
           "#19d3f3",
           "#FF6692",
           "#B6E880",
           "#FF97FF",
           "#FECB52"
          ],
          "font": {
           "color": "#2a3f5f"
          },
          "geo": {
           "bgcolor": "white",
           "lakecolor": "white",
           "landcolor": "#E5ECF6",
           "showlakes": true,
           "showland": true,
           "subunitcolor": "white"
          },
          "hoverlabel": {
           "align": "left"
          },
          "hovermode": "closest",
          "mapbox": {
           "style": "light"
          },
          "paper_bgcolor": "white",
          "plot_bgcolor": "#E5ECF6",
          "polar": {
           "angularaxis": {
            "gridcolor": "white",
            "linecolor": "white",
            "ticks": ""
           },
           "bgcolor": "#E5ECF6",
           "radialaxis": {
            "gridcolor": "white",
            "linecolor": "white",
            "ticks": ""
           }
          },
          "scene": {
           "xaxis": {
            "backgroundcolor": "#E5ECF6",
            "gridcolor": "white",
            "gridwidth": 2,
            "linecolor": "white",
            "showbackground": true,
            "ticks": "",
            "zerolinecolor": "white"
           },
           "yaxis": {
            "backgroundcolor": "#E5ECF6",
            "gridcolor": "white",
            "gridwidth": 2,
            "linecolor": "white",
            "showbackground": true,
            "ticks": "",
            "zerolinecolor": "white"
           },
           "zaxis": {
            "backgroundcolor": "#E5ECF6",
            "gridcolor": "white",
            "gridwidth": 2,
            "linecolor": "white",
            "showbackground": true,
            "ticks": "",
            "zerolinecolor": "white"
           }
          },
          "shapedefaults": {
           "line": {
            "color": "#2a3f5f"
           }
          },
          "ternary": {
           "aaxis": {
            "gridcolor": "white",
            "linecolor": "white",
            "ticks": ""
           },
           "baxis": {
            "gridcolor": "white",
            "linecolor": "white",
            "ticks": ""
           },
           "bgcolor": "#E5ECF6",
           "caxis": {
            "gridcolor": "white",
            "linecolor": "white",
            "ticks": ""
           }
          },
          "title": {
           "x": 0.05
          },
          "xaxis": {
           "automargin": true,
           "gridcolor": "white",
           "linecolor": "white",
           "ticks": "",
           "title": {
            "standoff": 15
           },
           "zerolinecolor": "white",
           "zerolinewidth": 2
          },
          "yaxis": {
           "automargin": true,
           "gridcolor": "white",
           "linecolor": "white",
           "ticks": "",
           "title": {
            "standoff": 15
           },
           "zerolinecolor": "white",
           "zerolinewidth": 2
          }
         }
        },
        "title": {
         "text": "Difference between budgeted time and time spent per field office",
         "x": 0.5
        },
        "xaxis": {
         "anchor": "y",
         "domain": [
          0,
          0.1257142857142857
         ],
         "showgrid": false,
         "title": {
          "text": ""
         }
        },
        "xaxis2": {
         "anchor": "y2",
         "domain": [
          0.14571428571428569,
          0.27142857142857135
         ],
         "matches": "x",
         "showgrid": false,
         "title": {
          "text": ""
         }
        },
        "xaxis3": {
         "anchor": "y3",
         "domain": [
          0.29142857142857137,
          0.41714285714285704
         ],
         "matches": "x",
         "showgrid": false,
         "title": {
          "text": ""
         }
        },
        "xaxis4": {
         "anchor": "y4",
         "domain": [
          0.4371428571428571,
          0.5628571428571428
         ],
         "matches": "x",
         "showgrid": false,
         "title": {
          "text": ""
         }
        },
        "xaxis5": {
         "anchor": "y5",
         "domain": [
          0.5828571428571427,
          0.7085714285714284
         ],
         "matches": "x",
         "showgrid": false,
         "title": {
          "text": ""
         }
        },
        "xaxis6": {
         "anchor": "y6",
         "domain": [
          0.7285714285714284,
          0.8542857142857141
         ],
         "matches": "x",
         "showgrid": false,
         "title": {
          "text": ""
         }
        },
        "xaxis7": {
         "anchor": "y7",
         "domain": [
          0.8742857142857141,
          0.9999999999999998
         ],
         "matches": "x",
         "showgrid": false,
         "title": {
          "text": ""
         }
        },
        "yaxis": {
         "anchor": "x",
         "categoryarray": [
          "Overall",
          "Finalization",
          "Draft report",
          "Fieldwork",
          "Planning"
         ],
         "categoryorder": "array",
         "domain": [
          0,
          1
         ],
         "title": {
          "text": "phase"
         }
        },
        "yaxis2": {
         "anchor": "x2",
         "domain": [
          0,
          1
         ],
         "matches": "y",
         "showticklabels": false
        },
        "yaxis3": {
         "anchor": "x3",
         "domain": [
          0,
          1
         ],
         "matches": "y",
         "showticklabels": false
        },
        "yaxis4": {
         "anchor": "x4",
         "domain": [
          0,
          1
         ],
         "matches": "y",
         "showticklabels": false
        },
        "yaxis5": {
         "anchor": "x5",
         "domain": [
          0,
          1
         ],
         "matches": "y",
         "showticklabels": false
        },
        "yaxis6": {
         "anchor": "x6",
         "domain": [
          0,
          1
         ],
         "matches": "y",
         "showticklabels": false
        },
        "yaxis7": {
         "anchor": "x7",
         "domain": [
          0,
          1
         ],
         "matches": "y",
         "showticklabels": false
        }
       }
      }
     },
     "metadata": {},
     "output_type": "display_data"
    }
   ],
   "source": [
    "(px.bar(df,y='phase',x='diff',facet_col='city',color='status',labels={'diff':\"Budget - spent (hours)\"},\n",
    "    title='Difference between budgeted time and time spent per field office',\n",
    "    category_orders={'phase':['Planning','Fieldwork','Draft report','Finalization','Overall']})\n",
    ".update_xaxes(showgrid=False)\n",
    ".for_each_annotation(lambda a: a.update(text=a.text.split(\"=\")[-1]))\n",
    ".update_layout(title_x=0.5)\n",
    ".for_each_xaxis(lambda xaxis: xaxis.update(title=''))\n",
    ".add_annotation(y=-0.3,x=0.5,showarrow=False,text=\"Budget - actual (hours)\", textangle=0,font_size=34,xref=\"paper\", yref=\"paper\")\n",
    ")"
   ]
  },
  {
   "cell_type": "code",
   "execution_count": 45,
   "metadata": {},
   "outputs": [],
   "source": [
    "e = {'planned_hours':'Budgeted hours','working_hours':'Spent hours'}"
   ]
  },
  {
   "cell_type": "code",
   "execution_count": 46,
   "metadata": {},
   "outputs": [],
   "source": [
    "df['percentage'] = (100*df['working_hours']/df['planned_hours']).round(1)"
   ]
  },
  {
   "cell_type": "code",
   "execution_count": 47,
   "metadata": {},
   "outputs": [],
   "source": [
    "df['disp'] = ''\n",
    "df['disp'].mask(df['percentage']>=100,'+'+(df['percentage']-100).round(1).astype('string')+'%',inplace=True)\n",
    "df['disp'].mask(df['percentage']<100,'-'+(100-df['percentage']).round(1).astype('string')+'%',inplace=True)\n",
    "df['disp'].mask(df['percentage'].isna(),'-'+str(100)+'%',inplace=True)"
   ]
  },
  {
   "cell_type": "code",
   "execution_count": 48,
   "metadata": {},
   "outputs": [],
   "source": [
    "df['colour'] = 'red'\n",
    "df['colour'].mask((df['percentage']<=100)|(df['percentage'].isna()),'green',inplace=True)"
   ]
  },
  {
   "cell_type": "code",
   "execution_count": 49,
   "metadata": {},
   "outputs": [],
   "source": [
    "cities = df['city'].sort_values().unique()\n",
    "city_mapper = dict(zip(cities,range(1,len(cities)+1)))"
   ]
  },
  {
   "cell_type": "code",
   "execution_count": 50,
   "metadata": {},
   "outputs": [],
   "source": [
    "cols = ['city','planned_hours','working_hours','diff','percentage','disp','phase']"
   ]
  },
  {
   "cell_type": "code",
   "execution_count": 51,
   "metadata": {},
   "outputs": [],
   "source": [
    "title = \"<span style='color:blue'>Budgeted</span> vs time spent with percentage \\\n",
    "<span style='color:red'>over budget</span> and <span style='color:green'>within budget</span>\"\n",
    "\n",
    "fig = (px.bar(df,y='phase',x=['working_hours','planned_hours'],facet_col='city',labels={'variable':'Category','planned_hours':'planned'},\n",
    "        color_discrete_map={'planned_hours':'blue','working_hours':'red'},\n",
    "        category_orders={'phase':['Planning','Fieldwork','Draft report','Finalization','Overall']},barmode='group')\n",
    "    .update_yaxes(showgrid=False)\n",
    "    .update_layout(title=title,title_x=0.5,legend_traceorder=\"reversed\",showlegend=False)\n",
    "    .for_each_annotation(lambda a: a.update(text=a.text.split(\"=\")[-1]))\n",
    "    .update_xaxes(showgrid=False)\n",
    "    .for_each_xaxis(lambda xaxis: xaxis.update(title='',showticklabels=False))\n",
    "    .add_annotation(y=-0.2,x=0.5,showarrow=False,\n",
    "                   text=\"Hours\", textangle=0,font_size=34,\n",
    "                    xref=\"paper\", yref=\"paper\")\n",
    ")\n",
    "\n",
    "for d in df.iterrows():\n",
    "    if d[1]['percentage']/100 >= 1:\n",
    "        fig.add_annotation(y=d[1]['phase'],x=d[1]['working_hours'],text = d[1]['disp'],xshift=29,row=0,col=city_mapper[d[1]['city']],\n",
    "            yshift=-12,showarrow=False)\n",
    "        fig.add_annotation(y=d[1]['phase'],x=d[1]['planned_hours'],text = d[1]['planned_hours'],xshift=29,row=0,col=city_mapper[d[1]['city']],\n",
    "            yshift=+12,showarrow=False)\n",
    "    else:\n",
    "        fig.add_annotation(y=d[1]['phase'],x=d[1]['working_hours'],text = d[1]['disp'],xshift=25,row=0,col=city_mapper[d[1]['city']],\n",
    "            yshift=-12,showarrow=False)\n",
    "        fig.add_annotation(y=d[1]['phase'],x=d[1]['planned_hours'],text = d[1]['planned_hours'],xshift=25,row=0,col=city_mapper[d[1]['city']],\n",
    "            yshift=+12,showarrow=False)\n",
    "        \n",
    "\n",
    "for c in city_mapper:\n",
    "    fig.update_traces(row=0,col=city_mapper[c],selector=dict(legendgroup = 'working_hours'),\n",
    "        patch=dict(marker_color = df[df['city']==c]['colour'],showlegend = False))\n",
    "\n"
   ]
  },
  {
   "cell_type": "code",
   "execution_count": 52,
   "metadata": {},
   "outputs": [
    {
     "data": {
      "application/vnd.plotly.v1+json": {
       "config": {
        "plotlyServerURL": "https://plot.ly"
       },
       "data": [
        {
         "alignmentgroup": "True",
         "hovertemplate": "Category=working_hours<br>city=Addis<br>value=%{x}<br>phase=%{y}<extra></extra>",
         "legendgroup": "working_hours",
         "marker": {
          "color": [
           "red",
           "green",
           "green",
           "green",
           "red"
          ],
          "pattern": {
           "shape": ""
          }
         },
         "name": "working_hours",
         "offsetgroup": "working_hours",
         "orientation": "h",
         "showlegend": false,
         "textposition": "auto",
         "type": "bar",
         "x": [
          99.5,
          134.5,
          16.5,
          418.75,
          168.25
         ],
         "xaxis": "x",
         "y": [
          "Draft report",
          "Fieldwork",
          "Finalization",
          "Overall",
          "Planning"
         ],
         "yaxis": "y"
        },
        {
         "alignmentgroup": "True",
         "hovertemplate": "Category=working_hours<br>city=Harare<br>value=%{x}<br>phase=%{y}<extra></extra>",
         "legendgroup": "working_hours",
         "marker": {
          "color": [
           "green",
           "red",
           "green",
           "red",
           "red"
          ],
          "pattern": {
           "shape": ""
          }
         },
         "name": "working_hours",
         "offsetgroup": "working_hours",
         "orientation": "h",
         "showlegend": false,
         "textposition": "auto",
         "type": "bar",
         "x": [
          68.5,
          398.5,
          null,
          850,
          383
         ],
         "xaxis": "x2",
         "y": [
          "Draft report",
          "Fieldwork",
          "Finalization",
          "Overall",
          "Planning"
         ],
         "yaxis": "y2"
        },
        {
         "alignmentgroup": "True",
         "hovertemplate": "Category=working_hours<br>city=Havana<br>value=%{x}<br>phase=%{y}<extra></extra>",
         "legendgroup": "working_hours",
         "marker": {
          "color": [
           "green",
           "green",
           "green",
           "green",
           "green"
          ],
          "pattern": {
           "shape": ""
          }
         },
         "name": "working_hours",
         "offsetgroup": "working_hours",
         "orientation": "h",
         "showlegend": false,
         "textposition": "auto",
         "type": "bar",
         "x": [
          null,
          252.5,
          null,
          515,
          262.5
         ],
         "xaxis": "x3",
         "y": [
          "Draft report",
          "Fieldwork",
          "Finalization",
          "Overall",
          "Planning"
         ],
         "yaxis": "y3"
        },
        {
         "alignmentgroup": "True",
         "hovertemplate": "Category=working_hours<br>city=IICBA<br>value=%{x}<br>phase=%{y}<extra></extra>",
         "legendgroup": "working_hours",
         "marker": {
          "color": [
           "green",
           "green",
           "green",
           "green",
           "green"
          ],
          "pattern": {
           "shape": ""
          }
         },
         "name": "working_hours",
         "offsetgroup": "working_hours",
         "orientation": "h",
         "showlegend": false,
         "textposition": "auto",
         "type": "bar",
         "x": [
          93.5,
          58,
          33.5,
          289.5,
          104.5
         ],
         "xaxis": "x4",
         "y": [
          "Draft report",
          "Fieldwork",
          "Finalization",
          "Overall",
          "Planning"
         ],
         "yaxis": "y4"
        },
        {
         "alignmentgroup": "True",
         "hovertemplate": "Category=working_hours<br>city=San José<br>value=%{x}<br>phase=%{y}<extra></extra>",
         "legendgroup": "working_hours",
         "marker": {
          "color": [
           "red",
           "red",
           "red",
           "red",
           "green"
          ],
          "pattern": {
           "shape": ""
          }
         },
         "name": "working_hours",
         "offsetgroup": "working_hours",
         "orientation": "h",
         "showlegend": false,
         "textposition": "auto",
         "type": "bar",
         "x": [
          121.5,
          456,
          79.5,
          792,
          135
         ],
         "xaxis": "x5",
         "y": [
          "Draft report",
          "Fieldwork",
          "Finalization",
          "Overall",
          "Planning"
         ],
         "yaxis": "y5"
        },
        {
         "alignmentgroup": "True",
         "hovertemplate": "Category=working_hours<br>city=Tehran<br>value=%{x}<br>phase=%{y}<extra></extra>",
         "legendgroup": "working_hours",
         "marker": {
          "color": [
           "red",
           "red",
           "red",
           "red",
           "red"
          ],
          "pattern": {
           "shape": ""
          }
         },
         "name": "working_hours",
         "offsetgroup": "working_hours",
         "orientation": "h",
         "showlegend": false,
         "textposition": "auto",
         "type": "bar",
         "x": [
          139.5,
          329.5,
          60.5,
          720,
          190.5
         ],
         "xaxis": "x6",
         "y": [
          "Draft report",
          "Fieldwork",
          "Finalization",
          "Overall",
          "Planning"
         ],
         "yaxis": "y6"
        },
        {
         "alignmentgroup": "True",
         "hovertemplate": "Category=working_hours<br>city=Yaounde<br>value=%{x}<br>phase=%{y}<extra></extra>",
         "legendgroup": "working_hours",
         "marker": {
          "color": [
           "red",
           "red",
           "red",
           "red",
           "red"
          ],
          "pattern": {
           "shape": ""
          }
         },
         "name": "working_hours",
         "offsetgroup": "working_hours",
         "orientation": "h",
         "showlegend": false,
         "textposition": "auto",
         "type": "bar",
         "x": [
          257,
          523.75,
          47,
          1028.25,
          200.5
         ],
         "xaxis": "x7",
         "y": [
          "Draft report",
          "Fieldwork",
          "Finalization",
          "Overall",
          "Planning"
         ],
         "yaxis": "y7"
        },
        {
         "alignmentgroup": "True",
         "hovertemplate": "Category=planned_hours<br>city=Addis<br>value=%{x}<br>phase=%{y}<extra></extra>",
         "legendgroup": "planned_hours",
         "marker": {
          "color": "blue",
          "pattern": {
           "shape": ""
          }
         },
         "name": "planned_hours",
         "offsetgroup": "planned_hours",
         "orientation": "h",
         "showlegend": true,
         "textposition": "auto",
         "type": "bar",
         "x": [
          97.5,
          337.5,
          30,
          600,
          135
         ],
         "xaxis": "x",
         "y": [
          "Draft report",
          "Fieldwork",
          "Finalization",
          "Overall",
          "Planning"
         ],
         "yaxis": "y"
        },
        {
         "alignmentgroup": "True",
         "hovertemplate": "Category=planned_hours<br>city=Harare<br>value=%{x}<br>phase=%{y}<extra></extra>",
         "legendgroup": "planned_hours",
         "marker": {
          "color": "blue",
          "pattern": {
           "shape": ""
          }
         },
         "name": "planned_hours",
         "offsetgroup": "planned_hours",
         "orientation": "h",
         "showlegend": false,
         "textposition": "auto",
         "type": "bar",
         "x": [
          165,
          240,
          90,
          600,
          105
         ],
         "xaxis": "x2",
         "y": [
          "Draft report",
          "Fieldwork",
          "Finalization",
          "Overall",
          "Planning"
         ],
         "yaxis": "y2"
        },
        {
         "alignmentgroup": "True",
         "hovertemplate": "Category=planned_hours<br>city=Havana<br>value=%{x}<br>phase=%{y}<extra></extra>",
         "legendgroup": "planned_hours",
         "marker": {
          "color": "blue",
          "pattern": {
           "shape": ""
          }
         },
         "name": "planned_hours",
         "offsetgroup": "planned_hours",
         "orientation": "h",
         "showlegend": false,
         "textposition": "auto",
         "type": "bar",
         "x": [
          150,
          337.5,
          37.5,
          832.5,
          307.5
         ],
         "xaxis": "x3",
         "y": [
          "Draft report",
          "Fieldwork",
          "Finalization",
          "Overall",
          "Planning"
         ],
         "yaxis": "y3"
        },
        {
         "alignmentgroup": "True",
         "hovertemplate": "Category=planned_hours<br>city=IICBA<br>value=%{x}<br>phase=%{y}<extra></extra>",
         "legendgroup": "planned_hours",
         "marker": {
          "color": "blue",
          "pattern": {
           "shape": ""
          }
         },
         "name": "planned_hours",
         "offsetgroup": "planned_hours",
         "orientation": "h",
         "showlegend": false,
         "textposition": "auto",
         "type": "bar",
         "x": [
          232.5,
          232.5,
          127.5,
          825,
          232.5
         ],
         "xaxis": "x4",
         "y": [
          "Draft report",
          "Fieldwork",
          "Finalization",
          "Overall",
          "Planning"
         ],
         "yaxis": "y4"
        },
        {
         "alignmentgroup": "True",
         "hovertemplate": "Category=planned_hours<br>city=San José<br>value=%{x}<br>phase=%{y}<extra></extra>",
         "legendgroup": "planned_hours",
         "marker": {
          "color": "blue",
          "pattern": {
           "shape": ""
          }
         },
         "name": "planned_hours",
         "offsetgroup": "planned_hours",
         "orientation": "h",
         "showlegend": false,
         "textposition": "auto",
         "type": "bar",
         "x": [
          120,
          262.5,
          30,
          600,
          187.5
         ],
         "xaxis": "x5",
         "y": [
          "Draft report",
          "Fieldwork",
          "Finalization",
          "Overall",
          "Planning"
         ],
         "yaxis": "y5"
        },
        {
         "alignmentgroup": "True",
         "hovertemplate": "Category=planned_hours<br>city=Tehran<br>value=%{x}<br>phase=%{y}<extra></extra>",
         "legendgroup": "planned_hours",
         "marker": {
          "color": "blue",
          "pattern": {
           "shape": ""
          }
         },
         "name": "planned_hours",
         "offsetgroup": "planned_hours",
         "orientation": "h",
         "showlegend": false,
         "textposition": "auto",
         "type": "bar",
         "x": [
          120,
          262.5,
          30,
          600,
          187.5
         ],
         "xaxis": "x6",
         "y": [
          "Draft report",
          "Fieldwork",
          "Finalization",
          "Overall",
          "Planning"
         ],
         "yaxis": "y6"
        },
        {
         "alignmentgroup": "True",
         "hovertemplate": "Category=planned_hours<br>city=Yaounde<br>value=%{x}<br>phase=%{y}<extra></extra>",
         "legendgroup": "planned_hours",
         "marker": {
          "color": "blue",
          "pattern": {
           "shape": ""
          }
         },
         "name": "planned_hours",
         "offsetgroup": "planned_hours",
         "orientation": "h",
         "showlegend": false,
         "textposition": "auto",
         "type": "bar",
         "x": [
          120,
          262.5,
          30,
          600,
          187.5
         ],
         "xaxis": "x7",
         "y": [
          "Draft report",
          "Fieldwork",
          "Finalization",
          "Overall",
          "Planning"
         ],
         "yaxis": "y7"
        }
       ],
       "layout": {
        "annotations": [
         {
          "showarrow": false,
          "text": "Addis",
          "x": 0.06285714285714285,
          "xanchor": "center",
          "xref": "paper",
          "y": 1,
          "yanchor": "bottom",
          "yref": "paper"
         },
         {
          "showarrow": false,
          "text": "Harare",
          "x": 0.20857142857142852,
          "xanchor": "center",
          "xref": "paper",
          "y": 1,
          "yanchor": "bottom",
          "yref": "paper"
         },
         {
          "showarrow": false,
          "text": "Havana",
          "x": 0.3542857142857142,
          "xanchor": "center",
          "xref": "paper",
          "y": 1,
          "yanchor": "bottom",
          "yref": "paper"
         },
         {
          "showarrow": false,
          "text": "IICBA",
          "x": 0.5,
          "xanchor": "center",
          "xref": "paper",
          "y": 1,
          "yanchor": "bottom",
          "yref": "paper"
         },
         {
          "showarrow": false,
          "text": "San José",
          "x": 0.6457142857142856,
          "xanchor": "center",
          "xref": "paper",
          "y": 1,
          "yanchor": "bottom",
          "yref": "paper"
         },
         {
          "showarrow": false,
          "text": "Tehran",
          "x": 0.7914285714285713,
          "xanchor": "center",
          "xref": "paper",
          "y": 1,
          "yanchor": "bottom",
          "yref": "paper"
         },
         {
          "showarrow": false,
          "text": "Yaounde",
          "x": 0.9371428571428569,
          "xanchor": "center",
          "xref": "paper",
          "y": 1,
          "yanchor": "bottom",
          "yref": "paper"
         },
         {
          "font": {
           "size": 34
          },
          "showarrow": false,
          "text": "Hours",
          "textangle": 0,
          "x": 0.5,
          "xref": "paper",
          "y": -0.2,
          "yref": "paper"
         },
         {
          "showarrow": false,
          "text": "+2.1%",
          "x": 99.5,
          "xref": "x",
          "xshift": 29,
          "y": "Draft report",
          "yref": "y",
          "yshift": -12
         },
         {
          "showarrow": false,
          "text": "97.5",
          "x": 97.5,
          "xref": "x",
          "xshift": 29,
          "y": "Draft report",
          "yref": "y",
          "yshift": 12
         },
         {
          "showarrow": false,
          "text": "-60.1%",
          "x": 134.5,
          "xref": "x",
          "xshift": 25,
          "y": "Fieldwork",
          "yref": "y",
          "yshift": -12
         },
         {
          "showarrow": false,
          "text": "337.5",
          "x": 337.5,
          "xref": "x",
          "xshift": 25,
          "y": "Fieldwork",
          "yref": "y",
          "yshift": 12
         },
         {
          "showarrow": false,
          "text": "-45.0%",
          "x": 16.5,
          "xref": "x",
          "xshift": 25,
          "y": "Finalization",
          "yref": "y",
          "yshift": -12
         },
         {
          "showarrow": false,
          "text": "30.0",
          "x": 30,
          "xref": "x",
          "xshift": 25,
          "y": "Finalization",
          "yref": "y",
          "yshift": 12
         },
         {
          "showarrow": false,
          "text": "-30.2%",
          "x": 418.75,
          "xref": "x",
          "xshift": 25,
          "y": "Overall",
          "yref": "y",
          "yshift": -12
         },
         {
          "showarrow": false,
          "text": "600.0",
          "x": 600,
          "xref": "x",
          "xshift": 25,
          "y": "Overall",
          "yref": "y",
          "yshift": 12
         },
         {
          "showarrow": false,
          "text": "+24.6%",
          "x": 168.25,
          "xref": "x",
          "xshift": 29,
          "y": "Planning",
          "yref": "y",
          "yshift": -12
         },
         {
          "showarrow": false,
          "text": "135.0",
          "x": 135,
          "xref": "x",
          "xshift": 29,
          "y": "Planning",
          "yref": "y",
          "yshift": 12
         },
         {
          "showarrow": false,
          "text": "-58.5%",
          "x": 68.5,
          "xref": "x2",
          "xshift": 25,
          "y": "Draft report",
          "yref": "y2",
          "yshift": -12
         },
         {
          "showarrow": false,
          "text": "165.0",
          "x": 165,
          "xref": "x2",
          "xshift": 25,
          "y": "Draft report",
          "yref": "y2",
          "yshift": 12
         },
         {
          "showarrow": false,
          "text": "+66.0%",
          "x": 398.5,
          "xref": "x2",
          "xshift": 29,
          "y": "Fieldwork",
          "yref": "y2",
          "yshift": -12
         },
         {
          "showarrow": false,
          "text": "240.0",
          "x": 240,
          "xref": "x2",
          "xshift": 29,
          "y": "Fieldwork",
          "yref": "y2",
          "yshift": 12
         },
         {
          "showarrow": false,
          "text": "-100%",
          "x": null,
          "xref": "x2",
          "xshift": 25,
          "y": "Finalization",
          "yref": "y2",
          "yshift": -12
         },
         {
          "showarrow": false,
          "text": "90.0",
          "x": 90,
          "xref": "x2",
          "xshift": 25,
          "y": "Finalization",
          "yref": "y2",
          "yshift": 12
         },
         {
          "showarrow": false,
          "text": "+41.7%",
          "x": 850,
          "xref": "x2",
          "xshift": 29,
          "y": "Overall",
          "yref": "y2",
          "yshift": -12
         },
         {
          "showarrow": false,
          "text": "600.0",
          "x": 600,
          "xref": "x2",
          "xshift": 29,
          "y": "Overall",
          "yref": "y2",
          "yshift": 12
         },
         {
          "showarrow": false,
          "text": "+264.8%",
          "x": 383,
          "xref": "x2",
          "xshift": 29,
          "y": "Planning",
          "yref": "y2",
          "yshift": -12
         },
         {
          "showarrow": false,
          "text": "105.0",
          "x": 105,
          "xref": "x2",
          "xshift": 29,
          "y": "Planning",
          "yref": "y2",
          "yshift": 12
         },
         {
          "showarrow": false,
          "text": "-100%",
          "x": null,
          "xref": "x3",
          "xshift": 25,
          "y": "Draft report",
          "yref": "y3",
          "yshift": -12
         },
         {
          "showarrow": false,
          "text": "150.0",
          "x": 150,
          "xref": "x3",
          "xshift": 25,
          "y": "Draft report",
          "yref": "y3",
          "yshift": 12
         },
         {
          "showarrow": false,
          "text": "-25.2%",
          "x": 252.5,
          "xref": "x3",
          "xshift": 25,
          "y": "Fieldwork",
          "yref": "y3",
          "yshift": -12
         },
         {
          "showarrow": false,
          "text": "337.5",
          "x": 337.5,
          "xref": "x3",
          "xshift": 25,
          "y": "Fieldwork",
          "yref": "y3",
          "yshift": 12
         },
         {
          "showarrow": false,
          "text": "-100%",
          "x": null,
          "xref": "x3",
          "xshift": 25,
          "y": "Finalization",
          "yref": "y3",
          "yshift": -12
         },
         {
          "showarrow": false,
          "text": "37.5",
          "x": 37.5,
          "xref": "x3",
          "xshift": 25,
          "y": "Finalization",
          "yref": "y3",
          "yshift": 12
         },
         {
          "showarrow": false,
          "text": "-38.1%",
          "x": 515,
          "xref": "x3",
          "xshift": 25,
          "y": "Overall",
          "yref": "y3",
          "yshift": -12
         },
         {
          "showarrow": false,
          "text": "832.5",
          "x": 832.5,
          "xref": "x3",
          "xshift": 25,
          "y": "Overall",
          "yref": "y3",
          "yshift": 12
         },
         {
          "showarrow": false,
          "text": "-14.6%",
          "x": 262.5,
          "xref": "x3",
          "xshift": 25,
          "y": "Planning",
          "yref": "y3",
          "yshift": -12
         },
         {
          "showarrow": false,
          "text": "307.5",
          "x": 307.5,
          "xref": "x3",
          "xshift": 25,
          "y": "Planning",
          "yref": "y3",
          "yshift": 12
         },
         {
          "showarrow": false,
          "text": "-59.8%",
          "x": 93.5,
          "xref": "x4",
          "xshift": 25,
          "y": "Draft report",
          "yref": "y4",
          "yshift": -12
         },
         {
          "showarrow": false,
          "text": "232.5",
          "x": 232.5,
          "xref": "x4",
          "xshift": 25,
          "y": "Draft report",
          "yref": "y4",
          "yshift": 12
         },
         {
          "showarrow": false,
          "text": "-75.1%",
          "x": 58,
          "xref": "x4",
          "xshift": 25,
          "y": "Fieldwork",
          "yref": "y4",
          "yshift": -12
         },
         {
          "showarrow": false,
          "text": "232.5",
          "x": 232.5,
          "xref": "x4",
          "xshift": 25,
          "y": "Fieldwork",
          "yref": "y4",
          "yshift": 12
         },
         {
          "showarrow": false,
          "text": "-73.7%",
          "x": 33.5,
          "xref": "x4",
          "xshift": 25,
          "y": "Finalization",
          "yref": "y4",
          "yshift": -12
         },
         {
          "showarrow": false,
          "text": "127.5",
          "x": 127.5,
          "xref": "x4",
          "xshift": 25,
          "y": "Finalization",
          "yref": "y4",
          "yshift": 12
         },
         {
          "showarrow": false,
          "text": "-64.9%",
          "x": 289.5,
          "xref": "x4",
          "xshift": 25,
          "y": "Overall",
          "yref": "y4",
          "yshift": -12
         },
         {
          "showarrow": false,
          "text": "825.0",
          "x": 825,
          "xref": "x4",
          "xshift": 25,
          "y": "Overall",
          "yref": "y4",
          "yshift": 12
         },
         {
          "showarrow": false,
          "text": "-55.1%",
          "x": 104.5,
          "xref": "x4",
          "xshift": 25,
          "y": "Planning",
          "yref": "y4",
          "yshift": -12
         },
         {
          "showarrow": false,
          "text": "232.5",
          "x": 232.5,
          "xref": "x4",
          "xshift": 25,
          "y": "Planning",
          "yref": "y4",
          "yshift": 12
         },
         {
          "showarrow": false,
          "text": "+1.2%",
          "x": 121.5,
          "xref": "x5",
          "xshift": 29,
          "y": "Draft report",
          "yref": "y5",
          "yshift": -12
         },
         {
          "showarrow": false,
          "text": "120.0",
          "x": 120,
          "xref": "x5",
          "xshift": 29,
          "y": "Draft report",
          "yref": "y5",
          "yshift": 12
         },
         {
          "showarrow": false,
          "text": "+73.7%",
          "x": 456,
          "xref": "x5",
          "xshift": 29,
          "y": "Fieldwork",
          "yref": "y5",
          "yshift": -12
         },
         {
          "showarrow": false,
          "text": "262.5",
          "x": 262.5,
          "xref": "x5",
          "xshift": 29,
          "y": "Fieldwork",
          "yref": "y5",
          "yshift": 12
         },
         {
          "showarrow": false,
          "text": "+165.0%",
          "x": 79.5,
          "xref": "x5",
          "xshift": 29,
          "y": "Finalization",
          "yref": "y5",
          "yshift": -12
         },
         {
          "showarrow": false,
          "text": "30.0",
          "x": 30,
          "xref": "x5",
          "xshift": 29,
          "y": "Finalization",
          "yref": "y5",
          "yshift": 12
         },
         {
          "showarrow": false,
          "text": "+32.0%",
          "x": 792,
          "xref": "x5",
          "xshift": 29,
          "y": "Overall",
          "yref": "y5",
          "yshift": -12
         },
         {
          "showarrow": false,
          "text": "600.0",
          "x": 600,
          "xref": "x5",
          "xshift": 29,
          "y": "Overall",
          "yref": "y5",
          "yshift": 12
         },
         {
          "showarrow": false,
          "text": "-28.0%",
          "x": 135,
          "xref": "x5",
          "xshift": 25,
          "y": "Planning",
          "yref": "y5",
          "yshift": -12
         },
         {
          "showarrow": false,
          "text": "187.5",
          "x": 187.5,
          "xref": "x5",
          "xshift": 25,
          "y": "Planning",
          "yref": "y5",
          "yshift": 12
         },
         {
          "showarrow": false,
          "text": "+16.2%",
          "x": 139.5,
          "xref": "x6",
          "xshift": 29,
          "y": "Draft report",
          "yref": "y6",
          "yshift": -12
         },
         {
          "showarrow": false,
          "text": "120.0",
          "x": 120,
          "xref": "x6",
          "xshift": 29,
          "y": "Draft report",
          "yref": "y6",
          "yshift": 12
         },
         {
          "showarrow": false,
          "text": "+25.5%",
          "x": 329.5,
          "xref": "x6",
          "xshift": 29,
          "y": "Fieldwork",
          "yref": "y6",
          "yshift": -12
         },
         {
          "showarrow": false,
          "text": "262.5",
          "x": 262.5,
          "xref": "x6",
          "xshift": 29,
          "y": "Fieldwork",
          "yref": "y6",
          "yshift": 12
         },
         {
          "showarrow": false,
          "text": "+101.7%",
          "x": 60.5,
          "xref": "x6",
          "xshift": 29,
          "y": "Finalization",
          "yref": "y6",
          "yshift": -12
         },
         {
          "showarrow": false,
          "text": "30.0",
          "x": 30,
          "xref": "x6",
          "xshift": 29,
          "y": "Finalization",
          "yref": "y6",
          "yshift": 12
         },
         {
          "showarrow": false,
          "text": "+20.0%",
          "x": 720,
          "xref": "x6",
          "xshift": 29,
          "y": "Overall",
          "yref": "y6",
          "yshift": -12
         },
         {
          "showarrow": false,
          "text": "600.0",
          "x": 600,
          "xref": "x6",
          "xshift": 29,
          "y": "Overall",
          "yref": "y6",
          "yshift": 12
         },
         {
          "showarrow": false,
          "text": "+1.6%",
          "x": 190.5,
          "xref": "x6",
          "xshift": 29,
          "y": "Planning",
          "yref": "y6",
          "yshift": -12
         },
         {
          "showarrow": false,
          "text": "187.5",
          "x": 187.5,
          "xref": "x6",
          "xshift": 29,
          "y": "Planning",
          "yref": "y6",
          "yshift": 12
         },
         {
          "showarrow": false,
          "text": "+114.2%",
          "x": 257,
          "xref": "x7",
          "xshift": 29,
          "y": "Draft report",
          "yref": "y7",
          "yshift": -12
         },
         {
          "showarrow": false,
          "text": "120.0",
          "x": 120,
          "xref": "x7",
          "xshift": 29,
          "y": "Draft report",
          "yref": "y7",
          "yshift": 12
         },
         {
          "showarrow": false,
          "text": "+99.5%",
          "x": 523.75,
          "xref": "x7",
          "xshift": 29,
          "y": "Fieldwork",
          "yref": "y7",
          "yshift": -12
         },
         {
          "showarrow": false,
          "text": "262.5",
          "x": 262.5,
          "xref": "x7",
          "xshift": 29,
          "y": "Fieldwork",
          "yref": "y7",
          "yshift": 12
         },
         {
          "showarrow": false,
          "text": "+56.7%",
          "x": 47,
          "xref": "x7",
          "xshift": 29,
          "y": "Finalization",
          "yref": "y7",
          "yshift": -12
         },
         {
          "showarrow": false,
          "text": "30.0",
          "x": 30,
          "xref": "x7",
          "xshift": 29,
          "y": "Finalization",
          "yref": "y7",
          "yshift": 12
         },
         {
          "showarrow": false,
          "text": "+71.4%",
          "x": 1028.25,
          "xref": "x7",
          "xshift": 29,
          "y": "Overall",
          "yref": "y7",
          "yshift": -12
         },
         {
          "showarrow": false,
          "text": "600.0",
          "x": 600,
          "xref": "x7",
          "xshift": 29,
          "y": "Overall",
          "yref": "y7",
          "yshift": 12
         },
         {
          "showarrow": false,
          "text": "+6.9%",
          "x": 200.5,
          "xref": "x7",
          "xshift": 29,
          "y": "Planning",
          "yref": "y7",
          "yshift": -12
         },
         {
          "showarrow": false,
          "text": "187.5",
          "x": 187.5,
          "xref": "x7",
          "xshift": 29,
          "y": "Planning",
          "yref": "y7",
          "yshift": 12
         }
        ],
        "barmode": "group",
        "legend": {
         "title": {
          "text": "Category"
         },
         "tracegroupgap": 0,
         "traceorder": "reversed"
        },
        "margin": {
         "t": 60
        },
        "showlegend": false,
        "template": {
         "data": {
          "bar": [
           {
            "error_x": {
             "color": "#2a3f5f"
            },
            "error_y": {
             "color": "#2a3f5f"
            },
            "marker": {
             "line": {
              "color": "#E5ECF6",
              "width": 0.5
             },
             "pattern": {
              "fillmode": "overlay",
              "size": 10,
              "solidity": 0.2
             }
            },
            "type": "bar"
           }
          ],
          "barpolar": [
           {
            "marker": {
             "line": {
              "color": "#E5ECF6",
              "width": 0.5
             },
             "pattern": {
              "fillmode": "overlay",
              "size": 10,
              "solidity": 0.2
             }
            },
            "type": "barpolar"
           }
          ],
          "carpet": [
           {
            "aaxis": {
             "endlinecolor": "#2a3f5f",
             "gridcolor": "white",
             "linecolor": "white",
             "minorgridcolor": "white",
             "startlinecolor": "#2a3f5f"
            },
            "baxis": {
             "endlinecolor": "#2a3f5f",
             "gridcolor": "white",
             "linecolor": "white",
             "minorgridcolor": "white",
             "startlinecolor": "#2a3f5f"
            },
            "type": "carpet"
           }
          ],
          "choropleth": [
           {
            "colorbar": {
             "outlinewidth": 0,
             "ticks": ""
            },
            "type": "choropleth"
           }
          ],
          "contour": [
           {
            "colorbar": {
             "outlinewidth": 0,
             "ticks": ""
            },
            "colorscale": [
             [
              0,
              "#0d0887"
             ],
             [
              0.1111111111111111,
              "#46039f"
             ],
             [
              0.2222222222222222,
              "#7201a8"
             ],
             [
              0.3333333333333333,
              "#9c179e"
             ],
             [
              0.4444444444444444,
              "#bd3786"
             ],
             [
              0.5555555555555556,
              "#d8576b"
             ],
             [
              0.6666666666666666,
              "#ed7953"
             ],
             [
              0.7777777777777778,
              "#fb9f3a"
             ],
             [
              0.8888888888888888,
              "#fdca26"
             ],
             [
              1,
              "#f0f921"
             ]
            ],
            "type": "contour"
           }
          ],
          "contourcarpet": [
           {
            "colorbar": {
             "outlinewidth": 0,
             "ticks": ""
            },
            "type": "contourcarpet"
           }
          ],
          "heatmap": [
           {
            "colorbar": {
             "outlinewidth": 0,
             "ticks": ""
            },
            "colorscale": [
             [
              0,
              "#0d0887"
             ],
             [
              0.1111111111111111,
              "#46039f"
             ],
             [
              0.2222222222222222,
              "#7201a8"
             ],
             [
              0.3333333333333333,
              "#9c179e"
             ],
             [
              0.4444444444444444,
              "#bd3786"
             ],
             [
              0.5555555555555556,
              "#d8576b"
             ],
             [
              0.6666666666666666,
              "#ed7953"
             ],
             [
              0.7777777777777778,
              "#fb9f3a"
             ],
             [
              0.8888888888888888,
              "#fdca26"
             ],
             [
              1,
              "#f0f921"
             ]
            ],
            "type": "heatmap"
           }
          ],
          "heatmapgl": [
           {
            "colorbar": {
             "outlinewidth": 0,
             "ticks": ""
            },
            "colorscale": [
             [
              0,
              "#0d0887"
             ],
             [
              0.1111111111111111,
              "#46039f"
             ],
             [
              0.2222222222222222,
              "#7201a8"
             ],
             [
              0.3333333333333333,
              "#9c179e"
             ],
             [
              0.4444444444444444,
              "#bd3786"
             ],
             [
              0.5555555555555556,
              "#d8576b"
             ],
             [
              0.6666666666666666,
              "#ed7953"
             ],
             [
              0.7777777777777778,
              "#fb9f3a"
             ],
             [
              0.8888888888888888,
              "#fdca26"
             ],
             [
              1,
              "#f0f921"
             ]
            ],
            "type": "heatmapgl"
           }
          ],
          "histogram": [
           {
            "marker": {
             "pattern": {
              "fillmode": "overlay",
              "size": 10,
              "solidity": 0.2
             }
            },
            "type": "histogram"
           }
          ],
          "histogram2d": [
           {
            "colorbar": {
             "outlinewidth": 0,
             "ticks": ""
            },
            "colorscale": [
             [
              0,
              "#0d0887"
             ],
             [
              0.1111111111111111,
              "#46039f"
             ],
             [
              0.2222222222222222,
              "#7201a8"
             ],
             [
              0.3333333333333333,
              "#9c179e"
             ],
             [
              0.4444444444444444,
              "#bd3786"
             ],
             [
              0.5555555555555556,
              "#d8576b"
             ],
             [
              0.6666666666666666,
              "#ed7953"
             ],
             [
              0.7777777777777778,
              "#fb9f3a"
             ],
             [
              0.8888888888888888,
              "#fdca26"
             ],
             [
              1,
              "#f0f921"
             ]
            ],
            "type": "histogram2d"
           }
          ],
          "histogram2dcontour": [
           {
            "colorbar": {
             "outlinewidth": 0,
             "ticks": ""
            },
            "colorscale": [
             [
              0,
              "#0d0887"
             ],
             [
              0.1111111111111111,
              "#46039f"
             ],
             [
              0.2222222222222222,
              "#7201a8"
             ],
             [
              0.3333333333333333,
              "#9c179e"
             ],
             [
              0.4444444444444444,
              "#bd3786"
             ],
             [
              0.5555555555555556,
              "#d8576b"
             ],
             [
              0.6666666666666666,
              "#ed7953"
             ],
             [
              0.7777777777777778,
              "#fb9f3a"
             ],
             [
              0.8888888888888888,
              "#fdca26"
             ],
             [
              1,
              "#f0f921"
             ]
            ],
            "type": "histogram2dcontour"
           }
          ],
          "mesh3d": [
           {
            "colorbar": {
             "outlinewidth": 0,
             "ticks": ""
            },
            "type": "mesh3d"
           }
          ],
          "parcoords": [
           {
            "line": {
             "colorbar": {
              "outlinewidth": 0,
              "ticks": ""
             }
            },
            "type": "parcoords"
           }
          ],
          "pie": [
           {
            "automargin": true,
            "type": "pie"
           }
          ],
          "scatter": [
           {
            "marker": {
             "colorbar": {
              "outlinewidth": 0,
              "ticks": ""
             }
            },
            "type": "scatter"
           }
          ],
          "scatter3d": [
           {
            "line": {
             "colorbar": {
              "outlinewidth": 0,
              "ticks": ""
             }
            },
            "marker": {
             "colorbar": {
              "outlinewidth": 0,
              "ticks": ""
             }
            },
            "type": "scatter3d"
           }
          ],
          "scattercarpet": [
           {
            "marker": {
             "colorbar": {
              "outlinewidth": 0,
              "ticks": ""
             }
            },
            "type": "scattercarpet"
           }
          ],
          "scattergeo": [
           {
            "marker": {
             "colorbar": {
              "outlinewidth": 0,
              "ticks": ""
             }
            },
            "type": "scattergeo"
           }
          ],
          "scattergl": [
           {
            "marker": {
             "colorbar": {
              "outlinewidth": 0,
              "ticks": ""
             }
            },
            "type": "scattergl"
           }
          ],
          "scattermapbox": [
           {
            "marker": {
             "colorbar": {
              "outlinewidth": 0,
              "ticks": ""
             }
            },
            "type": "scattermapbox"
           }
          ],
          "scatterpolar": [
           {
            "marker": {
             "colorbar": {
              "outlinewidth": 0,
              "ticks": ""
             }
            },
            "type": "scatterpolar"
           }
          ],
          "scatterpolargl": [
           {
            "marker": {
             "colorbar": {
              "outlinewidth": 0,
              "ticks": ""
             }
            },
            "type": "scatterpolargl"
           }
          ],
          "scatterternary": [
           {
            "marker": {
             "colorbar": {
              "outlinewidth": 0,
              "ticks": ""
             }
            },
            "type": "scatterternary"
           }
          ],
          "surface": [
           {
            "colorbar": {
             "outlinewidth": 0,
             "ticks": ""
            },
            "colorscale": [
             [
              0,
              "#0d0887"
             ],
             [
              0.1111111111111111,
              "#46039f"
             ],
             [
              0.2222222222222222,
              "#7201a8"
             ],
             [
              0.3333333333333333,
              "#9c179e"
             ],
             [
              0.4444444444444444,
              "#bd3786"
             ],
             [
              0.5555555555555556,
              "#d8576b"
             ],
             [
              0.6666666666666666,
              "#ed7953"
             ],
             [
              0.7777777777777778,
              "#fb9f3a"
             ],
             [
              0.8888888888888888,
              "#fdca26"
             ],
             [
              1,
              "#f0f921"
             ]
            ],
            "type": "surface"
           }
          ],
          "table": [
           {
            "cells": {
             "fill": {
              "color": "#EBF0F8"
             },
             "line": {
              "color": "white"
             }
            },
            "header": {
             "fill": {
              "color": "#C8D4E3"
             },
             "line": {
              "color": "white"
             }
            },
            "type": "table"
           }
          ]
         },
         "layout": {
          "annotationdefaults": {
           "arrowcolor": "#2a3f5f",
           "arrowhead": 0,
           "arrowwidth": 1
          },
          "autotypenumbers": "strict",
          "coloraxis": {
           "colorbar": {
            "outlinewidth": 0,
            "ticks": ""
           }
          },
          "colorscale": {
           "diverging": [
            [
             0,
             "#8e0152"
            ],
            [
             0.1,
             "#c51b7d"
            ],
            [
             0.2,
             "#de77ae"
            ],
            [
             0.3,
             "#f1b6da"
            ],
            [
             0.4,
             "#fde0ef"
            ],
            [
             0.5,
             "#f7f7f7"
            ],
            [
             0.6,
             "#e6f5d0"
            ],
            [
             0.7,
             "#b8e186"
            ],
            [
             0.8,
             "#7fbc41"
            ],
            [
             0.9,
             "#4d9221"
            ],
            [
             1,
             "#276419"
            ]
           ],
           "sequential": [
            [
             0,
             "#0d0887"
            ],
            [
             0.1111111111111111,
             "#46039f"
            ],
            [
             0.2222222222222222,
             "#7201a8"
            ],
            [
             0.3333333333333333,
             "#9c179e"
            ],
            [
             0.4444444444444444,
             "#bd3786"
            ],
            [
             0.5555555555555556,
             "#d8576b"
            ],
            [
             0.6666666666666666,
             "#ed7953"
            ],
            [
             0.7777777777777778,
             "#fb9f3a"
            ],
            [
             0.8888888888888888,
             "#fdca26"
            ],
            [
             1,
             "#f0f921"
            ]
           ],
           "sequentialminus": [
            [
             0,
             "#0d0887"
            ],
            [
             0.1111111111111111,
             "#46039f"
            ],
            [
             0.2222222222222222,
             "#7201a8"
            ],
            [
             0.3333333333333333,
             "#9c179e"
            ],
            [
             0.4444444444444444,
             "#bd3786"
            ],
            [
             0.5555555555555556,
             "#d8576b"
            ],
            [
             0.6666666666666666,
             "#ed7953"
            ],
            [
             0.7777777777777778,
             "#fb9f3a"
            ],
            [
             0.8888888888888888,
             "#fdca26"
            ],
            [
             1,
             "#f0f921"
            ]
           ]
          },
          "colorway": [
           "#636efa",
           "#EF553B",
           "#00cc96",
           "#ab63fa",
           "#FFA15A",
           "#19d3f3",
           "#FF6692",
           "#B6E880",
           "#FF97FF",
           "#FECB52"
          ],
          "font": {
           "color": "#2a3f5f"
          },
          "geo": {
           "bgcolor": "white",
           "lakecolor": "white",
           "landcolor": "#E5ECF6",
           "showlakes": true,
           "showland": true,
           "subunitcolor": "white"
          },
          "hoverlabel": {
           "align": "left"
          },
          "hovermode": "closest",
          "mapbox": {
           "style": "light"
          },
          "paper_bgcolor": "white",
          "plot_bgcolor": "#E5ECF6",
          "polar": {
           "angularaxis": {
            "gridcolor": "white",
            "linecolor": "white",
            "ticks": ""
           },
           "bgcolor": "#E5ECF6",
           "radialaxis": {
            "gridcolor": "white",
            "linecolor": "white",
            "ticks": ""
           }
          },
          "scene": {
           "xaxis": {
            "backgroundcolor": "#E5ECF6",
            "gridcolor": "white",
            "gridwidth": 2,
            "linecolor": "white",
            "showbackground": true,
            "ticks": "",
            "zerolinecolor": "white"
           },
           "yaxis": {
            "backgroundcolor": "#E5ECF6",
            "gridcolor": "white",
            "gridwidth": 2,
            "linecolor": "white",
            "showbackground": true,
            "ticks": "",
            "zerolinecolor": "white"
           },
           "zaxis": {
            "backgroundcolor": "#E5ECF6",
            "gridcolor": "white",
            "gridwidth": 2,
            "linecolor": "white",
            "showbackground": true,
            "ticks": "",
            "zerolinecolor": "white"
           }
          },
          "shapedefaults": {
           "line": {
            "color": "#2a3f5f"
           }
          },
          "ternary": {
           "aaxis": {
            "gridcolor": "white",
            "linecolor": "white",
            "ticks": ""
           },
           "baxis": {
            "gridcolor": "white",
            "linecolor": "white",
            "ticks": ""
           },
           "bgcolor": "#E5ECF6",
           "caxis": {
            "gridcolor": "white",
            "linecolor": "white",
            "ticks": ""
           }
          },
          "title": {
           "x": 0.05
          },
          "xaxis": {
           "automargin": true,
           "gridcolor": "white",
           "linecolor": "white",
           "ticks": "",
           "title": {
            "standoff": 15
           },
           "zerolinecolor": "white",
           "zerolinewidth": 2
          },
          "yaxis": {
           "automargin": true,
           "gridcolor": "white",
           "linecolor": "white",
           "ticks": "",
           "title": {
            "standoff": 15
           },
           "zerolinecolor": "white",
           "zerolinewidth": 2
          }
         }
        },
        "title": {
         "text": "<span style='color:blue'>Budgeted</span> vs time spent with percentage <span style='color:red'>over budget</span> and <span style='color:green'>within budget</span>",
         "x": 0.5
        },
        "xaxis": {
         "anchor": "y",
         "domain": [
          0,
          0.1257142857142857
         ],
         "showgrid": false,
         "showticklabels": false,
         "title": {
          "text": ""
         }
        },
        "xaxis2": {
         "anchor": "y2",
         "domain": [
          0.14571428571428569,
          0.27142857142857135
         ],
         "matches": "x",
         "showgrid": false,
         "showticklabels": false,
         "title": {
          "text": ""
         }
        },
        "xaxis3": {
         "anchor": "y3",
         "domain": [
          0.29142857142857137,
          0.41714285714285704
         ],
         "matches": "x",
         "showgrid": false,
         "showticklabels": false,
         "title": {
          "text": ""
         }
        },
        "xaxis4": {
         "anchor": "y4",
         "domain": [
          0.4371428571428571,
          0.5628571428571428
         ],
         "matches": "x",
         "showgrid": false,
         "showticklabels": false,
         "title": {
          "text": ""
         }
        },
        "xaxis5": {
         "anchor": "y5",
         "domain": [
          0.5828571428571427,
          0.7085714285714284
         ],
         "matches": "x",
         "showgrid": false,
         "showticklabels": false,
         "title": {
          "text": ""
         }
        },
        "xaxis6": {
         "anchor": "y6",
         "domain": [
          0.7285714285714284,
          0.8542857142857141
         ],
         "matches": "x",
         "showgrid": false,
         "showticklabels": false,
         "title": {
          "text": ""
         }
        },
        "xaxis7": {
         "anchor": "y7",
         "domain": [
          0.8742857142857141,
          0.9999999999999998
         ],
         "matches": "x",
         "showgrid": false,
         "showticklabels": false,
         "title": {
          "text": ""
         }
        },
        "yaxis": {
         "anchor": "x",
         "categoryarray": [
          "Overall",
          "Finalization",
          "Draft report",
          "Fieldwork",
          "Planning"
         ],
         "categoryorder": "array",
         "domain": [
          0,
          1
         ],
         "showgrid": false,
         "title": {
          "text": "phase"
         }
        },
        "yaxis2": {
         "anchor": "x2",
         "domain": [
          0,
          1
         ],
         "matches": "y",
         "showgrid": false,
         "showticklabels": false
        },
        "yaxis3": {
         "anchor": "x3",
         "domain": [
          0,
          1
         ],
         "matches": "y",
         "showgrid": false,
         "showticklabels": false
        },
        "yaxis4": {
         "anchor": "x4",
         "domain": [
          0,
          1
         ],
         "matches": "y",
         "showgrid": false,
         "showticklabels": false
        },
        "yaxis5": {
         "anchor": "x5",
         "domain": [
          0,
          1
         ],
         "matches": "y",
         "showgrid": false,
         "showticklabels": false
        },
        "yaxis6": {
         "anchor": "x6",
         "domain": [
          0,
          1
         ],
         "matches": "y",
         "showgrid": false,
         "showticklabels": false
        },
        "yaxis7": {
         "anchor": "x7",
         "domain": [
          0,
          1
         ],
         "matches": "y",
         "showgrid": false,
         "showticklabels": false
        }
       }
      }
     },
     "metadata": {},
     "output_type": "display_data"
    }
   ],
   "source": [
    "fig"
   ]
  },
  {
   "cell_type": "code",
   "execution_count": 357,
   "metadata": {},
   "outputs": [
    {
     "data": {
      "application/vnd.plotly.v1+json": {
       "config": {
        "plotlyServerURL": "https://plot.ly"
       },
       "data": [
        {
         "marker": {
          "color": [
           "green",
           "green",
           "red",
           "green",
           "red"
          ]
         },
         "orientation": "h",
         "showlegend": false,
         "type": "bar",
         "x": [
          418.75,
          16.5,
          99.5,
          134.5,
          168.25
         ],
         "xaxis": "x",
         "y": [
          "Overall",
          "Finalization",
          "Draft report",
          "Fieldwork",
          "Planning"
         ],
         "yaxis": "y"
        },
        {
         "marker": {
          "color": "blue"
         },
         "orientation": "h",
         "showlegend": false,
         "type": "bar",
         "x": [
          600,
          30,
          97.5,
          337.5,
          135
         ],
         "xaxis": "x",
         "y": [
          "Overall",
          "Finalization",
          "Draft report",
          "Fieldwork",
          "Planning"
         ],
         "yaxis": "y"
        },
        {
         "marker": {
          "color": [
           "red",
           "green",
           "green",
           "red",
           "red"
          ]
         },
         "orientation": "h",
         "showlegend": false,
         "type": "bar",
         "x": [
          850,
          null,
          68.5,
          398.5,
          383
         ],
         "xaxis": "x2",
         "y": [
          "Overall",
          "Finalization",
          "Draft report",
          "Fieldwork",
          "Planning"
         ],
         "yaxis": "y2"
        },
        {
         "marker": {
          "color": "blue"
         },
         "orientation": "h",
         "showlegend": false,
         "type": "bar",
         "x": [
          600,
          90,
          165,
          240,
          105
         ],
         "xaxis": "x2",
         "y": [
          "Overall",
          "Finalization",
          "Draft report",
          "Fieldwork",
          "Planning"
         ],
         "yaxis": "y2"
        },
        {
         "marker": {
          "color": [
           "green",
           "green",
           "green",
           "green",
           "green"
          ]
         },
         "orientation": "h",
         "showlegend": false,
         "type": "bar",
         "x": [
          515,
          null,
          null,
          252.5,
          262.5
         ],
         "xaxis": "x3",
         "y": [
          "Overall",
          "Finalization",
          "Draft report",
          "Fieldwork",
          "Planning"
         ],
         "yaxis": "y3"
        },
        {
         "marker": {
          "color": "blue"
         },
         "orientation": "h",
         "showlegend": false,
         "type": "bar",
         "x": [
          832.5,
          37.5,
          150,
          337.5,
          307.5
         ],
         "xaxis": "x3",
         "y": [
          "Overall",
          "Finalization",
          "Draft report",
          "Fieldwork",
          "Planning"
         ],
         "yaxis": "y3"
        },
        {
         "marker": {
          "color": [
           "green",
           "green",
           "green",
           "green",
           "green"
          ]
         },
         "orientation": "h",
         "showlegend": false,
         "type": "bar",
         "x": [
          289.5,
          33.5,
          93.5,
          58,
          104.5
         ],
         "xaxis": "x4",
         "y": [
          "Overall",
          "Finalization",
          "Draft report",
          "Fieldwork",
          "Planning"
         ],
         "yaxis": "y4"
        },
        {
         "marker": {
          "color": "blue"
         },
         "orientation": "h",
         "showlegend": false,
         "type": "bar",
         "x": [
          825,
          127.5,
          232.5,
          232.5,
          232.5
         ],
         "xaxis": "x4",
         "y": [
          "Overall",
          "Finalization",
          "Draft report",
          "Fieldwork",
          "Planning"
         ],
         "yaxis": "y4"
        },
        {
         "marker": {
          "color": [
           "red",
           "red",
           "red",
           "red",
           "green"
          ]
         },
         "orientation": "h",
         "showlegend": false,
         "type": "bar",
         "x": [
          792,
          79.5,
          121.5,
          456,
          135
         ],
         "xaxis": "x5",
         "y": [
          "Overall",
          "Finalization",
          "Draft report",
          "Fieldwork",
          "Planning"
         ],
         "yaxis": "y5"
        },
        {
         "marker": {
          "color": "blue"
         },
         "orientation": "h",
         "showlegend": false,
         "type": "bar",
         "x": [
          600,
          30,
          120,
          262.5,
          187.5
         ],
         "xaxis": "x5",
         "y": [
          "Overall",
          "Finalization",
          "Draft report",
          "Fieldwork",
          "Planning"
         ],
         "yaxis": "y5"
        },
        {
         "marker": {
          "color": [
           "red",
           "red",
           "red",
           "red",
           "red"
          ]
         },
         "orientation": "h",
         "showlegend": false,
         "type": "bar",
         "x": [
          720,
          60.5,
          139.5,
          329.5,
          190.5
         ],
         "xaxis": "x6",
         "y": [
          "Overall",
          "Finalization",
          "Draft report",
          "Fieldwork",
          "Planning"
         ],
         "yaxis": "y6"
        },
        {
         "marker": {
          "color": "blue"
         },
         "orientation": "h",
         "showlegend": false,
         "type": "bar",
         "x": [
          600,
          30,
          120,
          262.5,
          187.5
         ],
         "xaxis": "x6",
         "y": [
          "Overall",
          "Finalization",
          "Draft report",
          "Fieldwork",
          "Planning"
         ],
         "yaxis": "y6"
        },
        {
         "marker": {
          "color": [
           "red",
           "red",
           "red",
           "red",
           "red"
          ]
         },
         "orientation": "h",
         "showlegend": false,
         "type": "bar",
         "x": [
          1028.25,
          47,
          257,
          523.75,
          200.5
         ],
         "xaxis": "x7",
         "y": [
          "Overall",
          "Finalization",
          "Draft report",
          "Fieldwork",
          "Planning"
         ],
         "yaxis": "y7"
        },
        {
         "marker": {
          "color": "blue"
         },
         "orientation": "h",
         "showlegend": false,
         "type": "bar",
         "x": [
          600,
          30,
          120,
          262.5,
          187.5
         ],
         "xaxis": "x7",
         "y": [
          "Overall",
          "Finalization",
          "Draft report",
          "Fieldwork",
          "Planning"
         ],
         "yaxis": "y7"
        }
       ],
       "layout": {
        "annotations": [
         {
          "font": {
           "size": 16
          },
          "showarrow": false,
          "text": "Addis",
          "x": 0.05918367346938775,
          "xanchor": "center",
          "xref": "paper",
          "y": 1,
          "yanchor": "bottom",
          "yref": "paper"
         },
         {
          "font": {
           "size": 16
          },
          "showarrow": false,
          "text": "Harare",
          "x": 0.2061224489795918,
          "xanchor": "center",
          "xref": "paper",
          "y": 1,
          "yanchor": "bottom",
          "yref": "paper"
         },
         {
          "font": {
           "size": 16
          },
          "showarrow": false,
          "text": "Havana",
          "x": 0.3530612244897959,
          "xanchor": "center",
          "xref": "paper",
          "y": 1,
          "yanchor": "bottom",
          "yref": "paper"
         },
         {
          "font": {
           "size": 16
          },
          "showarrow": false,
          "text": "IICBA",
          "x": 0.49999999999999994,
          "xanchor": "center",
          "xref": "paper",
          "y": 1,
          "yanchor": "bottom",
          "yref": "paper"
         },
         {
          "font": {
           "size": 16
          },
          "showarrow": false,
          "text": "San José",
          "x": 0.6469387755102041,
          "xanchor": "center",
          "xref": "paper",
          "y": 1,
          "yanchor": "bottom",
          "yref": "paper"
         },
         {
          "font": {
           "size": 16
          },
          "showarrow": false,
          "text": "Tehran",
          "x": 0.7938775510204081,
          "xanchor": "center",
          "xref": "paper",
          "y": 1,
          "yanchor": "bottom",
          "yref": "paper"
         },
         {
          "font": {
           "size": 16
          },
          "showarrow": false,
          "text": "Yaounde",
          "x": 0.9408163265306122,
          "xanchor": "center",
          "xref": "paper",
          "y": 1,
          "yanchor": "bottom",
          "yref": "paper"
         }
        ],
        "barmode": "group",
        "template": {
         "data": {
          "bar": [
           {
            "error_x": {
             "color": "#2a3f5f"
            },
            "error_y": {
             "color": "#2a3f5f"
            },
            "marker": {
             "line": {
              "color": "#E5ECF6",
              "width": 0.5
             },
             "pattern": {
              "fillmode": "overlay",
              "size": 10,
              "solidity": 0.2
             }
            },
            "type": "bar"
           }
          ],
          "barpolar": [
           {
            "marker": {
             "line": {
              "color": "#E5ECF6",
              "width": 0.5
             },
             "pattern": {
              "fillmode": "overlay",
              "size": 10,
              "solidity": 0.2
             }
            },
            "type": "barpolar"
           }
          ],
          "carpet": [
           {
            "aaxis": {
             "endlinecolor": "#2a3f5f",
             "gridcolor": "white",
             "linecolor": "white",
             "minorgridcolor": "white",
             "startlinecolor": "#2a3f5f"
            },
            "baxis": {
             "endlinecolor": "#2a3f5f",
             "gridcolor": "white",
             "linecolor": "white",
             "minorgridcolor": "white",
             "startlinecolor": "#2a3f5f"
            },
            "type": "carpet"
           }
          ],
          "choropleth": [
           {
            "colorbar": {
             "outlinewidth": 0,
             "ticks": ""
            },
            "type": "choropleth"
           }
          ],
          "contour": [
           {
            "colorbar": {
             "outlinewidth": 0,
             "ticks": ""
            },
            "colorscale": [
             [
              0,
              "#0d0887"
             ],
             [
              0.1111111111111111,
              "#46039f"
             ],
             [
              0.2222222222222222,
              "#7201a8"
             ],
             [
              0.3333333333333333,
              "#9c179e"
             ],
             [
              0.4444444444444444,
              "#bd3786"
             ],
             [
              0.5555555555555556,
              "#d8576b"
             ],
             [
              0.6666666666666666,
              "#ed7953"
             ],
             [
              0.7777777777777778,
              "#fb9f3a"
             ],
             [
              0.8888888888888888,
              "#fdca26"
             ],
             [
              1,
              "#f0f921"
             ]
            ],
            "type": "contour"
           }
          ],
          "contourcarpet": [
           {
            "colorbar": {
             "outlinewidth": 0,
             "ticks": ""
            },
            "type": "contourcarpet"
           }
          ],
          "heatmap": [
           {
            "colorbar": {
             "outlinewidth": 0,
             "ticks": ""
            },
            "colorscale": [
             [
              0,
              "#0d0887"
             ],
             [
              0.1111111111111111,
              "#46039f"
             ],
             [
              0.2222222222222222,
              "#7201a8"
             ],
             [
              0.3333333333333333,
              "#9c179e"
             ],
             [
              0.4444444444444444,
              "#bd3786"
             ],
             [
              0.5555555555555556,
              "#d8576b"
             ],
             [
              0.6666666666666666,
              "#ed7953"
             ],
             [
              0.7777777777777778,
              "#fb9f3a"
             ],
             [
              0.8888888888888888,
              "#fdca26"
             ],
             [
              1,
              "#f0f921"
             ]
            ],
            "type": "heatmap"
           }
          ],
          "heatmapgl": [
           {
            "colorbar": {
             "outlinewidth": 0,
             "ticks": ""
            },
            "colorscale": [
             [
              0,
              "#0d0887"
             ],
             [
              0.1111111111111111,
              "#46039f"
             ],
             [
              0.2222222222222222,
              "#7201a8"
             ],
             [
              0.3333333333333333,
              "#9c179e"
             ],
             [
              0.4444444444444444,
              "#bd3786"
             ],
             [
              0.5555555555555556,
              "#d8576b"
             ],
             [
              0.6666666666666666,
              "#ed7953"
             ],
             [
              0.7777777777777778,
              "#fb9f3a"
             ],
             [
              0.8888888888888888,
              "#fdca26"
             ],
             [
              1,
              "#f0f921"
             ]
            ],
            "type": "heatmapgl"
           }
          ],
          "histogram": [
           {
            "marker": {
             "pattern": {
              "fillmode": "overlay",
              "size": 10,
              "solidity": 0.2
             }
            },
            "type": "histogram"
           }
          ],
          "histogram2d": [
           {
            "colorbar": {
             "outlinewidth": 0,
             "ticks": ""
            },
            "colorscale": [
             [
              0,
              "#0d0887"
             ],
             [
              0.1111111111111111,
              "#46039f"
             ],
             [
              0.2222222222222222,
              "#7201a8"
             ],
             [
              0.3333333333333333,
              "#9c179e"
             ],
             [
              0.4444444444444444,
              "#bd3786"
             ],
             [
              0.5555555555555556,
              "#d8576b"
             ],
             [
              0.6666666666666666,
              "#ed7953"
             ],
             [
              0.7777777777777778,
              "#fb9f3a"
             ],
             [
              0.8888888888888888,
              "#fdca26"
             ],
             [
              1,
              "#f0f921"
             ]
            ],
            "type": "histogram2d"
           }
          ],
          "histogram2dcontour": [
           {
            "colorbar": {
             "outlinewidth": 0,
             "ticks": ""
            },
            "colorscale": [
             [
              0,
              "#0d0887"
             ],
             [
              0.1111111111111111,
              "#46039f"
             ],
             [
              0.2222222222222222,
              "#7201a8"
             ],
             [
              0.3333333333333333,
              "#9c179e"
             ],
             [
              0.4444444444444444,
              "#bd3786"
             ],
             [
              0.5555555555555556,
              "#d8576b"
             ],
             [
              0.6666666666666666,
              "#ed7953"
             ],
             [
              0.7777777777777778,
              "#fb9f3a"
             ],
             [
              0.8888888888888888,
              "#fdca26"
             ],
             [
              1,
              "#f0f921"
             ]
            ],
            "type": "histogram2dcontour"
           }
          ],
          "mesh3d": [
           {
            "colorbar": {
             "outlinewidth": 0,
             "ticks": ""
            },
            "type": "mesh3d"
           }
          ],
          "parcoords": [
           {
            "line": {
             "colorbar": {
              "outlinewidth": 0,
              "ticks": ""
             }
            },
            "type": "parcoords"
           }
          ],
          "pie": [
           {
            "automargin": true,
            "type": "pie"
           }
          ],
          "scatter": [
           {
            "marker": {
             "colorbar": {
              "outlinewidth": 0,
              "ticks": ""
             }
            },
            "type": "scatter"
           }
          ],
          "scatter3d": [
           {
            "line": {
             "colorbar": {
              "outlinewidth": 0,
              "ticks": ""
             }
            },
            "marker": {
             "colorbar": {
              "outlinewidth": 0,
              "ticks": ""
             }
            },
            "type": "scatter3d"
           }
          ],
          "scattercarpet": [
           {
            "marker": {
             "colorbar": {
              "outlinewidth": 0,
              "ticks": ""
             }
            },
            "type": "scattercarpet"
           }
          ],
          "scattergeo": [
           {
            "marker": {
             "colorbar": {
              "outlinewidth": 0,
              "ticks": ""
             }
            },
            "type": "scattergeo"
           }
          ],
          "scattergl": [
           {
            "marker": {
             "colorbar": {
              "outlinewidth": 0,
              "ticks": ""
             }
            },
            "type": "scattergl"
           }
          ],
          "scattermapbox": [
           {
            "marker": {
             "colorbar": {
              "outlinewidth": 0,
              "ticks": ""
             }
            },
            "type": "scattermapbox"
           }
          ],
          "scatterpolar": [
           {
            "marker": {
             "colorbar": {
              "outlinewidth": 0,
              "ticks": ""
             }
            },
            "type": "scatterpolar"
           }
          ],
          "scatterpolargl": [
           {
            "marker": {
             "colorbar": {
              "outlinewidth": 0,
              "ticks": ""
             }
            },
            "type": "scatterpolargl"
           }
          ],
          "scatterternary": [
           {
            "marker": {
             "colorbar": {
              "outlinewidth": 0,
              "ticks": ""
             }
            },
            "type": "scatterternary"
           }
          ],
          "surface": [
           {
            "colorbar": {
             "outlinewidth": 0,
             "ticks": ""
            },
            "colorscale": [
             [
              0,
              "#0d0887"
             ],
             [
              0.1111111111111111,
              "#46039f"
             ],
             [
              0.2222222222222222,
              "#7201a8"
             ],
             [
              0.3333333333333333,
              "#9c179e"
             ],
             [
              0.4444444444444444,
              "#bd3786"
             ],
             [
              0.5555555555555556,
              "#d8576b"
             ],
             [
              0.6666666666666666,
              "#ed7953"
             ],
             [
              0.7777777777777778,
              "#fb9f3a"
             ],
             [
              0.8888888888888888,
              "#fdca26"
             ],
             [
              1,
              "#f0f921"
             ]
            ],
            "type": "surface"
           }
          ],
          "table": [
           {
            "cells": {
             "fill": {
              "color": "#EBF0F8"
             },
             "line": {
              "color": "white"
             }
            },
            "header": {
             "fill": {
              "color": "#C8D4E3"
             },
             "line": {
              "color": "white"
             }
            },
            "type": "table"
           }
          ]
         },
         "layout": {
          "annotationdefaults": {
           "arrowcolor": "#2a3f5f",
           "arrowhead": 0,
           "arrowwidth": 1
          },
          "autotypenumbers": "strict",
          "coloraxis": {
           "colorbar": {
            "outlinewidth": 0,
            "ticks": ""
           }
          },
          "colorscale": {
           "diverging": [
            [
             0,
             "#8e0152"
            ],
            [
             0.1,
             "#c51b7d"
            ],
            [
             0.2,
             "#de77ae"
            ],
            [
             0.3,
             "#f1b6da"
            ],
            [
             0.4,
             "#fde0ef"
            ],
            [
             0.5,
             "#f7f7f7"
            ],
            [
             0.6,
             "#e6f5d0"
            ],
            [
             0.7,
             "#b8e186"
            ],
            [
             0.8,
             "#7fbc41"
            ],
            [
             0.9,
             "#4d9221"
            ],
            [
             1,
             "#276419"
            ]
           ],
           "sequential": [
            [
             0,
             "#0d0887"
            ],
            [
             0.1111111111111111,
             "#46039f"
            ],
            [
             0.2222222222222222,
             "#7201a8"
            ],
            [
             0.3333333333333333,
             "#9c179e"
            ],
            [
             0.4444444444444444,
             "#bd3786"
            ],
            [
             0.5555555555555556,
             "#d8576b"
            ],
            [
             0.6666666666666666,
             "#ed7953"
            ],
            [
             0.7777777777777778,
             "#fb9f3a"
            ],
            [
             0.8888888888888888,
             "#fdca26"
            ],
            [
             1,
             "#f0f921"
            ]
           ],
           "sequentialminus": [
            [
             0,
             "#0d0887"
            ],
            [
             0.1111111111111111,
             "#46039f"
            ],
            [
             0.2222222222222222,
             "#7201a8"
            ],
            [
             0.3333333333333333,
             "#9c179e"
            ],
            [
             0.4444444444444444,
             "#bd3786"
            ],
            [
             0.5555555555555556,
             "#d8576b"
            ],
            [
             0.6666666666666666,
             "#ed7953"
            ],
            [
             0.7777777777777778,
             "#fb9f3a"
            ],
            [
             0.8888888888888888,
             "#fdca26"
            ],
            [
             1,
             "#f0f921"
            ]
           ]
          },
          "colorway": [
           "#636efa",
           "#EF553B",
           "#00cc96",
           "#ab63fa",
           "#FFA15A",
           "#19d3f3",
           "#FF6692",
           "#B6E880",
           "#FF97FF",
           "#FECB52"
          ],
          "font": {
           "color": "#2a3f5f"
          },
          "geo": {
           "bgcolor": "white",
           "lakecolor": "white",
           "landcolor": "#E5ECF6",
           "showlakes": true,
           "showland": true,
           "subunitcolor": "white"
          },
          "hoverlabel": {
           "align": "left"
          },
          "hovermode": "closest",
          "mapbox": {
           "style": "light"
          },
          "paper_bgcolor": "white",
          "plot_bgcolor": "#E5ECF6",
          "polar": {
           "angularaxis": {
            "gridcolor": "white",
            "linecolor": "white",
            "ticks": ""
           },
           "bgcolor": "#E5ECF6",
           "radialaxis": {
            "gridcolor": "white",
            "linecolor": "white",
            "ticks": ""
           }
          },
          "scene": {
           "xaxis": {
            "backgroundcolor": "#E5ECF6",
            "gridcolor": "white",
            "gridwidth": 2,
            "linecolor": "white",
            "showbackground": true,
            "ticks": "",
            "zerolinecolor": "white"
           },
           "yaxis": {
            "backgroundcolor": "#E5ECF6",
            "gridcolor": "white",
            "gridwidth": 2,
            "linecolor": "white",
            "showbackground": true,
            "ticks": "",
            "zerolinecolor": "white"
           },
           "zaxis": {
            "backgroundcolor": "#E5ECF6",
            "gridcolor": "white",
            "gridwidth": 2,
            "linecolor": "white",
            "showbackground": true,
            "ticks": "",
            "zerolinecolor": "white"
           }
          },
          "shapedefaults": {
           "line": {
            "color": "#2a3f5f"
           }
          },
          "ternary": {
           "aaxis": {
            "gridcolor": "white",
            "linecolor": "white",
            "ticks": ""
           },
           "baxis": {
            "gridcolor": "white",
            "linecolor": "white",
            "ticks": ""
           },
           "bgcolor": "#E5ECF6",
           "caxis": {
            "gridcolor": "white",
            "linecolor": "white",
            "ticks": ""
           }
          },
          "title": {
           "x": 0.05
          },
          "xaxis": {
           "automargin": true,
           "gridcolor": "white",
           "linecolor": "white",
           "ticks": "",
           "title": {
            "standoff": 15
           },
           "zerolinecolor": "white",
           "zerolinewidth": 2
          },
          "yaxis": {
           "automargin": true,
           "gridcolor": "white",
           "linecolor": "white",
           "ticks": "",
           "title": {
            "standoff": 15
           },
           "zerolinecolor": "white",
           "zerolinewidth": 2
          }
         }
        },
        "xaxis": {
         "anchor": "y",
         "domain": [
          0,
          0.1183673469387755
         ],
         "showgrid": false,
         "showticklabels": false
        },
        "xaxis2": {
         "anchor": "y2",
         "domain": [
          0.14693877551020407,
          0.26530612244897955
         ],
         "showgrid": false,
         "showticklabels": false
        },
        "xaxis3": {
         "anchor": "y3",
         "domain": [
          0.29387755102040813,
          0.4122448979591836
         ],
         "showgrid": false,
         "showticklabels": false
        },
        "xaxis4": {
         "anchor": "y4",
         "domain": [
          0.4408163265306122,
          0.5591836734693877
         ],
         "showgrid": false,
         "showticklabels": false
        },
        "xaxis5": {
         "anchor": "y5",
         "domain": [
          0.5877551020408163,
          0.7061224489795918
         ],
         "showgrid": false,
         "showticklabels": false
        },
        "xaxis6": {
         "anchor": "y6",
         "domain": [
          0.7346938775510204,
          0.8530612244897959
         ],
         "showgrid": false,
         "showticklabels": false
        },
        "xaxis7": {
         "anchor": "y7",
         "domain": [
          0.8816326530612244,
          0.9999999999999999
         ],
         "showgrid": false,
         "showticklabels": false
        },
        "yaxis": {
         "anchor": "x",
         "categoryarray": [
          "Overall",
          "Finalization",
          "Draft report",
          "Fieldwork",
          "Planning"
         ],
         "categoryorder": "array",
         "domain": [
          0,
          1
         ],
         "showgrid": false
        },
        "yaxis2": {
         "anchor": "x2",
         "categoryarray": [
          "Overall",
          "Finalization",
          "Draft report",
          "Fieldwork",
          "Planning"
         ],
         "categoryorder": "array",
         "domain": [
          0,
          1
         ],
         "matches": "y",
         "showgrid": false,
         "showticklabels": false
        },
        "yaxis3": {
         "anchor": "x3",
         "categoryarray": [
          "Overall",
          "Finalization",
          "Draft report",
          "Fieldwork",
          "Planning"
         ],
         "categoryorder": "array",
         "domain": [
          0,
          1
         ],
         "matches": "y",
         "showgrid": false,
         "showticklabels": false
        },
        "yaxis4": {
         "anchor": "x4",
         "categoryarray": [
          "Overall",
          "Finalization",
          "Draft report",
          "Fieldwork",
          "Planning"
         ],
         "categoryorder": "array",
         "domain": [
          0,
          1
         ],
         "matches": "y",
         "showgrid": false,
         "showticklabels": false
        },
        "yaxis5": {
         "anchor": "x5",
         "categoryarray": [
          "Overall",
          "Finalization",
          "Draft report",
          "Fieldwork",
          "Planning"
         ],
         "categoryorder": "array",
         "domain": [
          0,
          1
         ],
         "matches": "y",
         "showgrid": false,
         "showticklabels": false
        },
        "yaxis6": {
         "anchor": "x6",
         "categoryarray": [
          "Overall",
          "Finalization",
          "Draft report",
          "Fieldwork",
          "Planning"
         ],
         "categoryorder": "array",
         "domain": [
          0,
          1
         ],
         "matches": "y",
         "showgrid": false,
         "showticklabels": false
        },
        "yaxis7": {
         "anchor": "x7",
         "categoryarray": [
          "Overall",
          "Finalization",
          "Draft report",
          "Fieldwork",
          "Planning"
         ],
         "categoryorder": "array",
         "domain": [
          0,
          1
         ],
         "matches": "y",
         "showgrid": false,
         "showticklabels": false
        }
       }
      }
     },
     "metadata": {},
     "output_type": "display_data"
    }
   ],
   "source": [
    "import plotly.graph_objects as go\n",
    "from plotly.subplots import make_subplots\n",
    "\n",
    "category_order = ['Planning','Fieldwork','Draft report','Finalization','Overall']\n",
    "category_order.reverse()\n",
    "\n",
    "f = make_subplots(rows=1,cols=len(offices),subplot_titles=list(city_mapper.keys()),shared_yaxes=True,)\n",
    "for d in city_mapper:\n",
    "    data = df.loc[df['city']==d].sort_values('phase_num',ascending=False)\n",
    "    # data['colour'] = 'red'\n",
    "    # data['colour'].mask(data['percentage']<=100,'green',inplace=True)\n",
    "    \n",
    "    col = city_mapper[d]\n",
    "    f.add_trace(go.Bar(x=data['working_hours'],y=data['phase'],marker_color=data['colour'],orientation='h',\n",
    "    showlegend= False),row=1, col=col)\n",
    "    f.add_trace(go.Bar(x=data['planned_hours'],y=data['phase'],marker_color='blue',orientation='h',\n",
    "    showlegend=False),row=1, col=col)\n",
    "f.update_layout(barmode='group')\n",
    "f.update_xaxes(showticklabels=False,showgrid=False)\n",
    "f.update_yaxes(categoryorder='array', categoryarray= category_order,showgrid=False)\n"
   ]
  },
  {
   "cell_type": "code",
   "execution_count": null,
   "metadata": {},
   "outputs": [],
   "source": []
  }
 ],
 "metadata": {
  "kernelspec": {
   "display_name": "Python 3.7.9 ('base')",
   "language": "python",
   "name": "python3"
  },
  "language_info": {
   "codemirror_mode": {
    "name": "ipython",
    "version": 3
   },
   "file_extension": ".py",
   "mimetype": "text/x-python",
   "name": "python",
   "nbconvert_exporter": "python",
   "pygments_lexer": "ipython3",
   "version": "3.7.9"
  },
  "orig_nbformat": 4,
  "vscode": {
   "interpreter": {
    "hash": "40d3a090f54c6569ab1632332b64b2c03c39dcf918b08424e98f38b5ae0af88f"
   }
  }
 },
 "nbformat": 4,
 "nbformat_minor": 2
}
